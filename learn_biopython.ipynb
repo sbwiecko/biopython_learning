{
 "cells": [
  {
   "cell_type": "markdown",
   "metadata": {},
   "source": [
    "# NCBI Databases Information"
   ]
  },
  {
   "cell_type": "code",
   "execution_count": 1,
   "metadata": {},
   "outputs": [],
   "source": [
    "from Bio import Entrez\n",
    "Entrez.email = 'sbwiecko@free.fr'"
   ]
  },
  {
   "cell_type": "markdown",
   "metadata": {},
   "source": [
    "## Obtaining information about the Entrez databases\n",
    "\n",
    "See also [https://biopython.org/DIST/docs/tutorial/Tutorial.html#sec145](https://biopython.org/DIST/docs/tutorial/Tutorial.html#sec145)."
   ]
  },
  {
   "cell_type": "code",
   "execution_count": 2,
   "metadata": {},
   "outputs": [
    {
     "name": "stdout",
     "output_type": "stream",
     "text": [
      "<class 'Bio.Entrez.Parser.DictionaryElement'>\n",
      "dict_keys(['DbList'])\n",
      "['pubmed', 'protein', 'nuccore', 'ipg', 'nucleotide', 'structure', 'genome', 'annotinfo', 'assembly', 'bioproject', 'biosample', 'blastdbinfo', 'books', 'cdd', 'clinvar', 'gap', 'gapplus', 'grasp', 'dbvar', 'gene', 'gds', 'geoprofiles', 'homologene', 'medgen', 'mesh', 'ncbisearch', 'nlmcatalog', 'omim', 'orgtrack', 'pmc', 'popset', 'proteinclusters', 'pcassay', 'protfam', 'biosystems', 'pccompound', 'pcsubstance', 'seqannot', 'snp', 'sra', 'taxonomy', 'biocollections', 'gtr']\n"
     ]
    }
   ],
   "source": [
    "record = Entrez.read(Entrez.einfo())\n",
    "print(type(record))\n",
    "print(record.keys())\n",
    "print(record['DbList'])"
   ]
  },
  {
   "cell_type": "markdown",
   "metadata": {},
   "source": [
    "See more details in [A General Introduction to the E-utilities](https://www.ncbi.nlm.nih.gov/books/NBK25497/).\n",
    "\n",
    "| Entrez Database   | UID common name    | E-utility Database Name |\n",
    "| ----------------- | ------------------ | ----------------------- |\n",
    "| BioProject        | BioProject ID      | bioproject              |\n",
    "| BioSample         | BioSample ID       | biosample               |\n",
    "| Biosystems        | BSID               | biosystems              |\n",
    "| Books             | Book ID            | books                   |\n",
    "| Conserved Domains | PSSM-ID            | cdd                     |\n",
    "| dbGaP             | dbGaP ID           | gap                     |\n",
    "| dbVar             | dbVar ID           | dbvar                   |\n",
    "| Epigenomics       | Epigenomics ID     | epigenomics             |\n",
    "| EST               | GI number          | nucest                  |\n",
    "| Gene              | Gene ID            | gene                    |\n",
    "| Genome            | Genome ID          | genome                  |\n",
    "| GEO Datasets      | GDS ID             | gds                     |\n",
    "| GEO Profiles      | GEO ID             | geoprofiles             |\n",
    "| GSS               | GI number          | nucgss                  |\n",
    "| HomoloGene        | HomoloGene ID      | homologene              |\n",
    "| MeSH              | MeSH ID            | mesh                    |\n",
    "| NCBI C++ Toolkit  | Toolkit ID         | toolkit                 |\n",
    "| NCBI Web Site     | Web Site ID        | ncbisearch              |\n",
    "| NLM Catalog       | NLM Catalog ID     | nlmcatalog              |\n",
    "| Nucleotide        | GI number          | nuccore                 |\n",
    "| OMIA              | OMIA ID            | omia                    |\n",
    "| PopSet            | PopSet ID          | popset                  |\n",
    "| Probe             | Probe ID           | probe                   |\n",
    "| Protein           | GI number          | protein                 |\n",
    "| Protein Clusters  | Protein Cluster ID | proteinclusters         |\n",
    "| PubChem BioAssay  | AID                | pcassay                 |\n",
    "| PubChem Compound  | CID                | pccompound              |\n",
    "| PubChem Substance | SID                | pcsubstance             |\n",
    "| PubMed            | PMID               | pubmed                  |\n",
    "| PubMed Central    | PMCID              | pmc                     |\n",
    "| SNP               | rs number          | snp                     |\n",
    "| SRA               | SRA ID             | sra                     |\n",
    "| Structure         | MMDB-ID            | structure               |\n",
    "| Taxonomy          | TaxID              | taxonomy                |\n",
    "| UniGene           | UniGene Cluster ID | unigene                 |\n",
    "| UniSTS            | STS ID             | unists                  |"
   ]
  },
  {
   "cell_type": "markdown",
   "metadata": {},
   "source": [
    "## Read information from a particular database"
   ]
  },
  {
   "cell_type": "code",
   "execution_count": 174,
   "metadata": {},
   "outputs": [
    {
     "name": "stdout",
     "output_type": "stream",
     "text": [
      "DbName : sra\n",
      "MenuName : SRA\n",
      "Description : SRA Database\n",
      "DbBuild : Build211012-1433m.1\n",
      "Count : 17057960\n",
      "LastUpdate : 2021/10/12 19:10\n",
      "FieldList : [{'Name': 'ALL', 'FullName': 'All Fields', 'Description': 'All terms from all searchable fields', 'TermCount': '117175019', 'IsDate': 'N', 'IsNumerical': 'N', 'SingleToken': 'N', 'Hierarchy': 'N', 'IsHidden': 'N'}, {'Name': 'UID', 'FullName': 'UID', 'Description': 'Unique number assigned to publication', 'TermCount': '0', 'IsDate': 'N', 'IsNumerical': 'Y', 'SingleToken': 'Y', 'Hierarchy': 'N', 'IsHidden': 'Y'}, {'Name': 'FILT', 'FullName': 'Filter', 'Description': 'Limits the records', 'TermCount': '100', 'IsDate': 'N', 'IsNumerical': 'N', 'SingleToken': 'Y', 'Hierarchy': 'N', 'IsHidden': 'N'}, {'Name': 'ACCN', 'FullName': 'Accession', 'Description': 'Accession number of sequence', 'TermCount': '50701385', 'IsDate': 'N', 'IsNumerical': 'N', 'SingleToken': 'N', 'Hierarchy': 'N', 'IsHidden': 'N'}, {'Name': 'TITL', 'FullName': 'Title', 'Description': 'Words in definition line', 'TermCount': '8678888', 'IsDate': 'N', 'IsNumerical': 'N', 'SingleToken': 'N', 'Hierarchy': 'N', 'IsHidden': 'N'}, {'Name': 'PROP', 'FullName': 'Properties', 'Description': 'Classification by source qualifiers and molecule type', 'TermCount': '214', 'IsDate': 'N', 'IsNumerical': 'N', 'SingleToken': 'Y', 'Hierarchy': 'N', 'IsHidden': 'N'}, {'Name': 'WORD', 'FullName': 'Text Word', 'Description': 'Free text associated with record', 'TermCount': '71081957', 'IsDate': 'N', 'IsNumerical': 'N', 'SingleToken': 'N', 'Hierarchy': 'N', 'IsHidden': 'N'}, {'Name': 'ORGN', 'FullName': 'Organism', 'Description': 'Scientific and common names of organism, and all higher levels of taxonomy', 'TermCount': '611908', 'IsDate': 'N', 'IsNumerical': 'N', 'SingleToken': 'Y', 'Hierarchy': 'Y', 'IsHidden': 'N'}, {'Name': 'AUTH', 'FullName': 'Author', 'Description': 'Author(s) of publication', 'TermCount': '661571', 'IsDate': 'N', 'IsNumerical': 'N', 'SingleToken': 'Y', 'Hierarchy': 'N', 'IsHidden': 'N'}, {'Name': 'PDAT', 'FullName': 'Publication Date', 'Description': 'Date sequence added to GenBank', 'TermCount': '4762', 'IsDate': 'Y', 'IsNumerical': 'N', 'SingleToken': 'Y', 'Hierarchy': 'N', 'IsHidden': 'N'}, {'Name': 'MDAT', 'FullName': 'Modification Date', 'Description': 'Date of last update', 'TermCount': '4528', 'IsDate': 'Y', 'IsNumerical': 'N', 'SingleToken': 'Y', 'Hierarchy': 'N', 'IsHidden': 'N'}, {'Name': 'GPRJ', 'FullName': 'BioProject', 'Description': 'BioProject', 'TermCount': '883186', 'IsDate': 'N', 'IsNumerical': 'N', 'SingleToken': 'Y', 'Hierarchy': 'Y', 'IsHidden': 'N'}, {'Name': 'BSPL', 'FullName': 'BioSample', 'Description': 'BioSample', 'TermCount': '11848927', 'IsDate': 'N', 'IsNumerical': 'N', 'SingleToken': 'Y', 'Hierarchy': 'N', 'IsHidden': 'N'}, {'Name': 'PLAT', 'FullName': 'Platform', 'Description': 'Platform', 'TermCount': '10', 'IsDate': 'N', 'IsNumerical': 'N', 'SingleToken': 'Y', 'Hierarchy': 'N', 'IsHidden': 'N'}, {'Name': 'STRA', 'FullName': 'Strategy', 'Description': 'Strategy', 'TermCount': '37', 'IsDate': 'N', 'IsNumerical': 'N', 'SingleToken': 'Y', 'Hierarchy': 'N', 'IsHidden': 'N'}, {'Name': 'SRC', 'FullName': 'Source', 'Description': 'Source', 'TermCount': '9', 'IsDate': 'N', 'IsNumerical': 'N', 'SingleToken': 'Y', 'Hierarchy': 'N', 'IsHidden': 'N'}, {'Name': 'SEL', 'FullName': 'Selection', 'Description': 'Selection', 'TermCount': '28', 'IsDate': 'N', 'IsNumerical': 'N', 'SingleToken': 'Y', 'Hierarchy': 'N', 'IsHidden': 'N'}, {'Name': 'LAY', 'FullName': 'Layout', 'Description': 'Layout', 'TermCount': '2', 'IsDate': 'N', 'IsNumerical': 'N', 'SingleToken': 'Y', 'Hierarchy': 'N', 'IsHidden': 'N'}, {'Name': 'RLEN', 'FullName': 'ReadLength', 'Description': 'Percent of aligned reads', 'TermCount': '19589', 'IsDate': 'N', 'IsNumerical': 'Y', 'SingleToken': 'Y', 'Hierarchy': 'N', 'IsHidden': 'N'}, {'Name': 'ACS', 'FullName': 'Access', 'Description': 'Access is public or controlled', 'TermCount': '2', 'IsDate': 'N', 'IsNumerical': 'N', 'SingleToken': 'Y', 'Hierarchy': 'N', 'IsHidden': 'N'}, {'Name': 'ALN', 'FullName': 'Aligned', 'Description': 'Percent of aligned reads', 'TermCount': '102', 'IsDate': 'N', 'IsNumerical': 'Y', 'SingleToken': 'Y', 'Hierarchy': 'N', 'IsHidden': 'N'}, {'Name': 'MBS', 'FullName': 'Mbases', 'Description': 'Size in megabases', 'TermCount': '166069', 'IsDate': 'N', 'IsNumerical': 'Y', 'SingleToken': 'Y', 'Hierarchy': 'N', 'IsHidden': 'N'}]\n",
      "LinkList : [{'Name': 'sra_assembly', 'Menu': 'Assembly Links', 'Description': 'Links to assembly', 'DbTo': 'assembly'}, {'Name': 'sra_bioproject', 'Menu': 'BioProject Links', 'Description': 'Links to BioProject', 'DbTo': 'bioproject'}, {'Name': 'sra_bioproject_sp', 'Menu': 'bioproject', 'Description': 'Links to bioproject', 'DbTo': 'bioproject'}, {'Name': 'sra_biosample', 'Menu': 'BioSample Links', 'Description': 'BioSample links', 'DbTo': 'biosample'}, {'Name': 'sra_gap_all', 'Menu': 'dbGaP Links', 'Description': 'All related dbGaP records', 'DbTo': 'gap'}, {'Name': 'sra_gds', 'Menu': 'GEO DataSet Links', 'Description': 'Related GEO DataSets', 'DbTo': 'gds'}, {'Name': 'sra_genome', 'Menu': 'genome', 'Description': 'Related Genomes', 'DbTo': 'genome'}, {'Name': 'sra_nuccore', 'Menu': 'Nucleotide Links', 'Description': 'Related Nucleotide Links', 'DbTo': 'nuccore'}, {'Name': 'sra_nuccore_wgs', 'Menu': 'WGS links', 'Description': 'Links to nucleotide WGS masters', 'DbTo': 'nuccore'}, {'Name': 'sra_omim', 'Menu': 'Omim links', 'Description': 'Omim links', 'DbTo': 'omim'}, {'Name': 'sra_pmc', 'Menu': 'PMC', 'Description': 'Full text articles in PMC', 'DbTo': 'pmc'}, {'Name': 'sra_pubmed', 'Menu': 'PubMed Links', 'Description': 'Links to PubMed articles', 'DbTo': 'pubmed'}, {'Name': 'sra_taxonomy', 'Menu': 'Taxonomy Links', 'Description': 'Links to Taxonomy', 'DbTo': 'taxonomy'}]\n"
     ]
    }
   ],
   "source": [
    "handle = Entrez.einfo(db='sra') # added `db` param\n",
    "\n",
    "# convert from XML to python datatype\n",
    "record = Entrez.read(handle)\n",
    "\n",
    "for key in record['DbInfo'].keys(): # changed the key name\n",
    "    print(key, ':', record['DbInfo'][key])"
   ]
  },
  {
   "cell_type": "code",
   "execution_count": 86,
   "metadata": {},
   "outputs": [
    {
     "name": "stdout",
     "output_type": "stream",
     "text": [
      "PubMed Central\n",
      "7481530\n"
     ]
    }
   ],
   "source": [
    "print(Entrez.read(Entrez.einfo(db='pmc'))['DbInfo']['Description'])\n",
    "print(Entrez.read(Entrez.einfo(db='pmc'))['DbInfo']['Count'])"
   ]
  },
  {
   "cell_type": "code",
   "execution_count": 87,
   "metadata": {},
   "outputs": [
    {
     "name": "stdout",
     "output_type": "stream",
     "text": [
      "{'Count': '0', 'RetMax': '0', 'RetStart': '0', 'IdList': [], 'TranslationSet': [], 'TranslationStack': [{'Term': 'U-937[All Fields]', 'Field': 'All Fields', 'Count': '86', 'Explode': 'N'}, {'Term': 'U937[All Fields]', 'Field': 'All Fields', 'Count': '904', 'Explode': 'N'}, 'OR', 'GROUP', {'Term': 'interferon[All Fields]', 'Field': 'All Fields', 'Count': '8472', 'Explode': 'N'}, 'AND'], 'QueryTranslation': '(U-937[All Fields] OR U937[All Fields]) AND interferon[All Fields]'}\n"
     ]
    }
   ],
   "source": [
    "term = \"(U-937 OR U937) AND interferon\"\n",
    "handle = Entrez.esearch(\n",
    "    term=term,\n",
    "    db='sra',\n",
    ")\n",
    "\n",
    "record = Entrez.read(handle)\n",
    "\n",
    "print(record)"
   ]
  },
  {
   "cell_type": "code",
   "execution_count": 88,
   "metadata": {},
   "outputs": [
    {
     "name": "stdout",
     "output_type": "stream",
     "text": [
      "{'Count': '645', 'RetMax': '20', 'RetStart': '0', 'IdList': ['13928271', '13928270', '13928269', '13928268', '11190443', '11190442', '11190441', '11190440', '11190439', '11190438', '11190437', '11190436', '11190435', '11190434', '6864792', '6864791', '6864790', '6864789', '6864788', '6864787'], 'TranslationSet': [{'From': 'homo sapiens[ORGN]', 'To': '\"Homo sapiens\"[Organism]'}], 'TranslationStack': [{'Term': 'bet inhibitor[TITL]', 'Field': 'TITL', 'Count': '369', 'Explode': 'N'}, {'Term': 'bet inhibitor jq1[TITL]', 'Field': 'TITL', 'Count': '51', 'Explode': 'N'}, 'OR', {'Term': 'bet inhibitor resistance[TITL]', 'Field': 'TITL', 'Count': '44', 'Explode': 'N'}, 'OR', {'Term': 'bet inhibitors[TITL]', 'Field': 'TITL', 'Count': '280', 'Explode': 'N'}, 'OR', 'GROUP', {'Term': '\"Homo sapiens\"[Organism]', 'Field': 'Organism', 'Count': '2773483', 'Explode': 'Y'}, 'AND'], 'QueryTranslation': '(bet inhibitor[TITL] OR bet inhibitor jq1[TITL] OR bet inhibitor resistance[TITL] OR bet inhibitors[TITL]) AND \"Homo sapiens\"[Organism]'}\n"
     ]
    }
   ],
   "source": [
    "term = \"BET inhibitor*[TITL] AND homo sapiens[ORGN]\"\n",
    "handle = Entrez.esearch(\n",
    "    term=term,\n",
    "    db='sra',\n",
    ")\n",
    "\n",
    "record = Entrez.read(handle)\n",
    "\n",
    "print(record)"
   ]
  },
  {
   "cell_type": "markdown",
   "metadata": {},
   "source": [
    "## Obtaining spelling suggestions\n",
    "\n",
    "Suggests spelling corrections. See also [https://biopython.org/DIST/docs/tutorial/Tutorial.html#sec152](https://biopython.org/DIST/docs/tutorial/Tutorial.html#sec152). The result includes the original query, the complete corrected query, and a breakdown of the terms in the complete corrected query flagged as either \"replaced\" or \"original\"."
   ]
  },
  {
   "cell_type": "code",
   "execution_count": 89,
   "metadata": {},
   "outputs": [
    {
     "name": "stdout",
     "output_type": "stream",
     "text": [
      "<class 'Bio.Entrez.Parser.DictionaryElement'>\n",
      "dict_keys(['Database', 'Query', 'CorrectedQuery', 'SpelledQuery'])\n",
      "Database : pmc\n",
      "Query : biobython\n",
      "CorrectedQuery : biopython\n",
      "SpelledQuery : ['', 'biopython']\n"
     ]
    }
   ],
   "source": [
    "term = 'biobython' # entered a mispelled term\n",
    "\n",
    "handle = Entrez.espell(\n",
    "    db='pmc',\n",
    "    term=term,\n",
    ")\n",
    "\n",
    "record = Entrez.read(handle)\n",
    "\n",
    "print(type(record))\n",
    "print(record.keys())\n",
    "\n",
    "for key in record.keys(): # changed the key name\n",
    "    print(key, ':', record[key])"
   ]
  },
  {
   "cell_type": "markdown",
   "metadata": {},
   "source": [
    "### Exercice spelling correction\n",
    "\n",
    "The The following list contains 45 scientific names for animals. We want to ensure that these names are correct. Print the name of the query and the correction you received.\n",
    "\n",
    "In the second part, we want to print the names THAT ARE CORRECTED ONLY and the correction you received."
   ]
  },
  {
   "cell_type": "code",
   "execution_count": 10,
   "metadata": {},
   "outputs": [],
   "source": [
    "sciNames = [\n",
    "    'Bos gaurus',\n",
    "    'Antelope cervicapra',\n",
    "    'Gazella bennettii',\n",
    "    'Boselaphus tragocamelus',\n",
    "    'Canis lupus',\n",
    "    'Panthera leo',\n",
    "    'Elephas maximus',\n",
    "    'Equus africanus',\n",
    "    'Panthera pardus',\n",
    "    'Cervus canadensis',\n",
    "    'Pavo cristatus',\n",
    "    'Grus leucogeranus',\n",
    "    'Vulpes vulpes',\n",
    "    'Rhinoceros unicornis',\n",
    "    'Panthera Tigris',\n",
    "    'Crocodylus palustris',\n",
    "    'Gavialis gangeticus',\n",
    "    'Equus caballus',\n",
    "    'Equus quagga',\n",
    "    'Babalus bubalis',\n",
    "    'Sus scrofa',\n",
    "    'Camelus dromedaries',\n",
    "    'Giraffa camelopardalis ',\n",
    "    'Hemidactylus flaviviridis',\n",
    "    'Hippopotamus amphibius',\n",
    "    'Macaca mulatta',\n",
    "    'Canis lupus',\n",
    "    'Felis domesticus',\n",
    "    'Acinonyx jubatus',\n",
    "    'Rattus rattus',\n",
    "    'Mus musculus',\n",
    "    'Oryctolagus cuniculus',\n",
    "    'Bubo virginianus',\n",
    "    'Passer domesticus',\n",
    "    'Corvus splendens',\n",
    "    'Acridotheres tristis',\n",
    "    'Psittacula eupatria',\n",
    "    'Molpastes cafer',\n",
    "    'Eudynamis scolopaccus',\n",
    "    'Columba livia',\n",
    "    'Naja naja',\n",
    "    'Ophiophagus hannah',\n",
    "    'Hydrophiinae ',\n",
    "    'Python molurus',\n",
    "    'Ptyas mucosa'\n",
    "]"
   ]
  },
  {
   "cell_type": "code",
   "execution_count": 11,
   "metadata": {},
   "outputs": [
    {
     "data": {
      "text/plain": [
       "'Taxonomy db'"
      ]
     },
     "execution_count": 11,
     "metadata": {},
     "output_type": "execute_result"
    }
   ],
   "source": [
    "Entrez.read(Entrez.einfo(db='taxonomy'))['DbInfo']['Description']"
   ]
  },
  {
   "cell_type": "code",
   "execution_count": 18,
   "metadata": {},
   "outputs": [
    {
     "name": "stdout",
     "output_type": "stream",
     "text": [
      "Query:  Bos gaurus  - Corrected query:  bos taurus\n",
      "Query:  Antelope cervicapra  - Corrected query:  antilope cervicapra\n",
      "Query:  Gazella bennettii  - Corrected query:  gazella bennettii\n",
      "Query:  Boselaphus tragocamelus  - Corrected query:  boselaphus tragocamelus\n",
      "Query:  Canis lupus  - Corrected query:  canis lupus\n",
      "Query:  Panthera leo  - Corrected query:  panthera leo\n",
      "Query:  Elephas maximus  - Corrected query:  elephas maximus\n",
      "Query:  Equus africanus  - Corrected query:  equus africanus\n",
      "Query:  Panthera pardus  - Corrected query:  panthera pardus\n",
      "Query:  Cervus canadensis  - Corrected query:  cervus canadensis\n",
      "Query:  Pavo cristatus  - Corrected query:  pavo cristatus\n",
      "Query:  Grus leucogeranus  - Corrected query:  grus leucogeranus\n",
      "Query:  Vulpes vulpes  - Corrected query:  vulpes vulpes\n",
      "Query:  Rhinoceros unicornis  - Corrected query:  rhinoceros unicornis\n",
      "Query:  Panthera Tigris  - Corrected query:  panthera tigris\n",
      "Query:  Crocodylus palustris  - Corrected query:  crocodylus palustris\n",
      "Query:  Gavialis gangeticus  - Corrected query:  gavialis gangeticus\n",
      "Query:  Equus caballus  - Corrected query:  equus caballus\n",
      "Query:  Equus quagga  - Corrected query:  equus quagga\n",
      "Query:  Babalus bubalis  - Corrected query:  bubalus bubalis\n",
      "Query:  Sus scrofa  - Corrected query:  sus scrofa\n",
      "Query:  Camelus dromedaries  - Corrected query:  camelus dromedarius\n",
      "Query:  Giraffa camelopardalis  - Corrected query:  giraffa camelopardalis\n",
      "Query:  Hemidactylus flaviviridis  - Corrected query:  hemidactylus flaviviridis\n",
      "Query:  Hippopotamus amphibius  - Corrected query:  hippopotamus amphibius\n",
      "Query:  Macaca mulatta  - Corrected query:  macaca mulatta\n",
      "Query:  Canis lupus  - Corrected query:  canis lupus\n",
      "Query:  Felis domesticus  - Corrected query:  felis domesticus\n",
      "Query:  Acinonyx jubatus  - Corrected query:  acinonyx jubatus\n",
      "Query:  Rattus rattus  - Corrected query:  rattus rattus\n",
      "Query:  Mus musculus  - Corrected query:  mus musculus\n",
      "Query:  Oryctolagus cuniculus  - Corrected query:  oryctolagus cuniculus\n",
      "Query:  Bubo virginianus  - Corrected query:  bubo virginianus\n",
      "Query:  Passer domesticus  - Corrected query:  passer domesticus\n",
      "Query:  Corvus splendens  - Corrected query:  corvus splendens\n",
      "Query:  Acridotheres tristis  - Corrected query:  acridotheres tristis\n",
      "Query:  Psittacula eupatria  - Corrected query:  psittacula eupatria\n",
      "Query:  Molpastes cafer  - Corrected query:  molasses caffer\n",
      "Query:  Eudynamis scolopaccus  - Corrected query:  eudynamys scolopaceus\n",
      "Query:  Columba livia  - Corrected query:  columba livia\n",
      "Query:  Naja naja  - Corrected query:  naja naja\n",
      "Query:  Ophiophagus hannah  - Corrected query:  ophiophagus hannah\n",
      "Query:  Hydrophiinae  - Corrected query:  hydrophiinae\n",
      "Query:  Python molurus  - Corrected query:  python molurus\n",
      "Query:  Ptyas mucosa  - Corrected query:  ptyas mucosa\n"
     ]
    }
   ],
   "source": [
    "for sciName in sciNames:\n",
    "    handle = Entrez.espell(\n",
    "        db='taxonomy', # also works with PMC and certainly other databases\n",
    "        term=sciName,\n",
    "    )\n",
    "    record = Entrez.read(handle)\n",
    "\n",
    "    print(\"Query: \", record['Query'], \" - Corrected query: \", record['CorrectedQuery'])"
   ]
  },
  {
   "cell_type": "code",
   "execution_count": 34,
   "metadata": {},
   "outputs": [
    {
     "name": "stdout",
     "output_type": "stream",
     "text": [
      "Query:  Bos gaurus  - Corrected query:  bos taurus\n",
      "Query:  Antelope cervicapra  - Corrected query:  antilope cervicapra\n",
      "Query:  Babalus bubalis  - Corrected query:  bubalus bubalis\n",
      "Query:  Camelus dromedaries  - Corrected query:  camelus dromedarius\n",
      "Query:  Molpastes cafer  - Corrected query:  molasses caffer\n",
      "Query:  Eudynamis scolopaccus  - Corrected query:  eudynamys scolopaceus\n"
     ]
    }
   ],
   "source": [
    "for sciName in sciNames:\n",
    "    handle = Entrez.espell(\n",
    "        db='taxonomy', # also works with PMC and certainly other databases\n",
    "        term=sciName,\n",
    "    )\n",
    "    record = Entrez.read(handle)\n",
    "\n",
    "    if bool(record['SpelledQuery']): # when the list containing the spelled terms is not empty\n",
    "        print(\"Query: \", record['Query'], \" - Corrected query: \", record['CorrectedQuery'])"
   ]
  },
  {
   "cell_type": "markdown",
   "metadata": {},
   "source": [
    "## Search NCBI databases and retrieving documents summaries\n",
    "\n",
    "To search any of these databases, we use [esearch](https://biopython.org/DIST/docs/tutorial/Tutorial.html#sec146). In the output, you see PubMed IDs. You can also use ESearch to search GenBank, where each of the IDs is a GenBank identifier (Accession number). You can do things like Jones[AUTH] to search the author field, or Sanger[AFFL] to restrict to authors at the Sanger Centre. This can be very handy - especially if you are not so familiar with a particular database.\n",
    "\n",
    "[ESummary](https://biopython.org/DIST/docs/tutorial/Tutorial.html#sec148) retrieves document summaries from a list of primary IDs"
   ]
  },
  {
   "cell_type": "code",
   "execution_count": 156,
   "metadata": {},
   "outputs": [
    {
     "name": "stdout",
     "output_type": "stream",
     "text": [
      "PubChem BioAssay Database\n",
      "{'Count': '21', 'RetMax': '20', 'RetStart': '0', 'IdList': ['339171', '339170', '339167', '339165', '339164', '1139164', '1139163', '1139162', '1139161', '1139160', '1139159', '1139158', '1139157', '339169', '339168', '339166', '290243', '290242', '290238', '290237'], 'TranslationSet': [], 'TranslationStack': [{'Term': 'antibody[All Fields]', 'Field': 'All Fields', 'Count': '6068', 'Explode': 'N'}, {'Term': 'phagocytosis[All Fields]', 'Field': 'All Fields', 'Count': '507', 'Explode': 'N'}, 'AND'], 'QueryTranslation': 'antibody[All Fields] AND phagocytosis[All Fields]'}\n",
      "Immunostimulant activity in sheep RBC-immunized BALB/c albino mouse assessed as hemagglutininating antibody titer at 1 mg/kg, po administered daily for 7 days by microtiter hemagglutinination technique\n",
      "Immunostimulant activity in sheep RBC-immunized BALB/c albino mouse assessed as macrophage migration index at 1 mg/kg, po administered daily for 7 days measured after 18 to 24 hrs\n",
      "Nonspecific immunostimulant activity in sheep RBC-immunized BALB/c albino mouse assessed as macrophage migration index at 4 mg/kg, ip administered on day 7 and 3 prior to immunization measured after 18 to 24 hrs\n",
      "Immunostimulant activity in sheep RBC-immunized BALB/c albino mouse assessed as hemolytic plaque-forming cells per 10'5 spleen cells at 4 mg/kg, ip administered on day 7 and 3 prior to immunization measured after 5 days\n",
      "Immunostimulant activity in sheep RBC-immunized BALB/c albino mouse assessed as hemagglutininating antibody titer at 4 mg/kg, ip administered on day 7 and 3 prior to immunization measured after 5 days by microtiter hemagglutinination technique\n",
      "Induction of apoptosis in human PBMC assessed as apoptotic index at 100 uM after 1 hr by Annexin V/propidium iodide staining-based FACS analysis relative to IVIg\n",
      "Induction of apoptosis in human PBMC assessed as apoptotic index at 10 uM after 1 hr by Annexin V/propidium iodide staining-based FACS analysis relative to IVIg\n",
      "Inhibition of human PBMC-induced phagocytosis of antibody-opsonized RBC incubated for 1 hr prior to RBC addition measured after 2 hrs by phase-contrast microscopy\n",
      "Inhibition of human PBMC-induced phagocytosis of antibody-opsonized RBC at 5 uM incubated for 1 hr prior to RBC addition measured after 2 hrs by phase-contrast microscopy\n",
      "Distribution coefficient, log D of the compound at 10 mM at pH 7.4 by pH-metric method\n",
      "Acidic dissociation constant, pKa of the compound at 10 mM\n",
      "Basic dissociation constant, pKa of the compound at 10 mM\n",
      "Inhibition of PBMC (unknown origin)-induced phagocytosis of RBC by monocyte monolayer assay\n",
      "Nonspecific immunostimulant activity in sheep RBC-immunized BALB/c albino mouse assessed as [3H]thymidine uptake by splenic lymphocytes at 4 mg/kg, ip administered on day 7 and 3 prior to immunization by liquid scintillation counting\n",
      "Nonspecific immunostimulant activity in sheep RBC-immunized BALB/c albino mouse assessed as phagocytosis of [14C] leucine labeled Escherichia coli at 4 mg/kg, ip administered on day 7 and 3 prior to immunization\n",
      "Immunostimulant activity in sheep RBC-immunized BALB/c albino mouse assessed as delayed-type hypersensitivity response-related right foot pad thickness at 4 mg/kg, ip administered on day 7 and 3 prior to immunization measured after 5 days relative to non-immunized foot pad thickness\n",
      "Immunostimulatory effect against SRBC-inducing plaque forming cells in BALB/c mouse assessed as antibody secreting B cells at 100 mg/kg, po relative to control\n",
      "Immunostimulatory effect against SRBC-induced hormonal response in BALB/c mouse assessed as antibody production\n",
      "Immunostimulatory effect against SRBC-inducing plaque forming cells in BALB/c mouse assessed as antibody secreting B cells at 10 mg/kg, po relative to control\n",
      "Immunostimulatory effect against SRBC-inducing hormoral response in BALB/c mouse assessed as antibody production at 100 mg/kg\n"
     ]
    }
   ],
   "source": [
    "print(Entrez.read(Entrez.einfo(db='pcassay'))['DbInfo']['Description'])\n",
    "\n",
    "term = \"antibody AND phagocytosis\"\n",
    "handle = Entrez.esearch(\n",
    "    term=term,\n",
    "    db='pcassay',\n",
    ")\n",
    "\n",
    "record = Entrez.read(handle)\n",
    "\n",
    "print(record)\n",
    "\n",
    "for id in record['IdList']:\n",
    "    handle = Entrez.esummary(\n",
    "        db='pcassay',\n",
    "        id=id,\n",
    "    )\n",
    "    assay = Entrez.read(handle)[0]\n",
    "\n",
    "    print(assay['AssayName'])"
   ]
  },
  {
   "cell_type": "code",
   "execution_count": 90,
   "metadata": {},
   "outputs": [
    {
     "name": "stdout",
     "output_type": "stream",
     "text": [
      "dict_keys(['DbName', 'MenuName', 'Description', 'DbBuild', 'Count', 'LastUpdate', 'FieldList', 'LinkList'])\n",
      "---------------\n",
      "ALL, All Fields, All terms from all searchable fields\n",
      "UID, UID, Unique number assigned to publication\n",
      "FILT, Filter, Limits the records\n",
      "TITL, Title, Words in title of publication\n",
      "WORD, Text Word, Free text associated with publication\n",
      "MESH, MeSH Terms, Medical Subject Headings assigned to publication\n",
      "MAJR, MeSH Major Topic, MeSH terms of major importance to publication\n",
      "AUTH, Author, Author(s) of publication\n",
      "JOUR, Journal, Journal abbreviation of publication\n",
      "AFFL, Affiliation, Author's institutional affiliation and address\n",
      "ECNO, EC/RN Number, EC number for enzyme or CAS registry number\n",
      "SUBS, Supplementary Concept, CAS chemical name or MEDLINE Substance Name\n",
      "PDAT, Date - Publication, Date of publication\n",
      "EDAT, Date - Entrez, Date publication first accessible through Entrez\n",
      "VOL, Volume, Volume number of publication\n",
      "PAGE, Pagination, Page number(s) of publication\n",
      "PTYP, Publication Type, Type of publication (e.g., review)\n",
      "LANG, Language, Language of publication\n",
      "ISS, Issue, Issue number of publication\n",
      "SUBH, MeSH Subheading, Additional specificity for MeSH term\n",
      "SI, Secondary Source ID, Cross-reference from publication to other databases\n",
      "MHDA, Date - MeSH, Date publication was indexed with MeSH terms\n",
      "TIAB, Title/Abstract, Free text associated with Abstract/Title\n",
      "OTRM, Other Term, Other terms associated with publication\n",
      "INVR, Investigator, Investigator\n",
      "COLN, Author - Corporate, Corporate Author of publication\n",
      "CNTY, Place of Publication, Country of publication\n",
      "PAPX, Pharmacological Action, MeSH pharmacological action pre-explosions\n",
      "GRNT, Grant Number, NIH Grant Numbers\n",
      "MDAT, Date - Modification, Date of last modification\n",
      "CDAT, Date - Completion, Date of completion\n",
      "PID, Publisher ID, Publisher ID\n",
      "FAUT, Author - First, First Author of publication\n",
      "FULL, Author - Full, Full Author Name(s) of publication\n",
      "FINV, Investigator - Full, Full name of investigator\n",
      "TT, Transliterated Title, Words in transliterated title of publication\n",
      "LAUT, Author - Last, Last Author of publication\n",
      "PPDT, Print Publication Date, Date of print publication\n",
      "EPDT, Electronic Publication Date, Date of Electronic publication\n",
      "LID, Location ID, ELocation ID\n",
      "CRDT, Date - Create, Date publication first accessible through Entrez\n",
      "BOOK, Book, ID of the book that contains the document\n",
      "ED, Editor, Section's Editor\n",
      "ISBN, ISBN, ISBN\n",
      "PUBN, Publisher, Publisher's name\n",
      "AUCL, Author Cluster ID, Author Cluster ID\n",
      "EID, Extended PMID, Extended PMID\n",
      "DSO, DSO, Additional text from the summary\n",
      "AUID, Author - Identifier, Author Identifier\n",
      "PS, Subject - Personal Name, Personal Name as Subject\n",
      "COIS, Conflict of Interest Statements, Conflict of Interest Statements\n"
     ]
    }
   ],
   "source": [
    "handle = Entrez.einfo(db=\"pubmed\")\n",
    "record = Entrez.read(handle)\n",
    "\n",
    "print(record['DbInfo'].keys())\n",
    "print(\"-\"*15)\n",
    "\n",
    "for field in record[\"DbInfo\"][\"FieldList\"]:\n",
    "    print(f\"{field['Name']}, {field['FullName']}, {field['Description']}\")"
   ]
  },
  {
   "cell_type": "code",
   "execution_count": 137,
   "metadata": {},
   "outputs": [
    {
     "name": "stdout",
     "output_type": "stream",
     "text": [
      "15\n"
     ]
    }
   ],
   "source": [
    "handle = Entrez.esearch(\n",
    "    db='pubmed',\n",
    "    term=\"BET inhibitors[TITL] AND (review[PTYP] OR review[TITL])\",\n",
    "    retmax=100,\n",
    "    sort='most+recent',\n",
    "    mindate=2016,\n",
    "    maxdate=2021, # daterange; (mindate, maxdate) must be used together\n",
    ")\n",
    "\n",
    "record = Entrez.read(handle)\n",
    "print(record['Count'])"
   ]
  },
  {
   "cell_type": "code",
   "execution_count": 138,
   "metadata": {},
   "outputs": [
    {
     "name": "stdout",
     "output_type": "stream",
     "text": [
      "['34072421', '33723398', '32951810', '32827765', '32218352', '30693439', '29189147', '29050361', '29032717', '28838216', '28786345', '27769357', '27729803', '27250929', '26924192']\n"
     ]
    }
   ],
   "source": [
    "list_pubs = record['IdList']\n",
    "print(list_pubs)"
   ]
  },
  {
   "cell_type": "code",
   "execution_count": 139,
   "metadata": {},
   "outputs": [
    {
     "data": {
      "text/plain": [
       "dict_keys(['Item', 'Id', 'PubDate', 'EPubDate', 'Source', 'AuthorList', 'LastAuthor', 'Title', 'Volume', 'Issue', 'Pages', 'LangList', 'NlmUniqueID', 'ISSN', 'ESSN', 'PubTypeList', 'RecordStatus', 'PubStatus', 'ArticleIds', 'DOI', 'History', 'References', 'HasAbstract', 'PmcRefCount', 'FullJournalName', 'ELocationID', 'SO'])"
      ]
     },
     "execution_count": 139,
     "metadata": {},
     "output_type": "execute_result"
    }
   ],
   "source": [
    "Entrez.read(\n",
    "    Entrez.esummary(\n",
    "        db='pubmed',\n",
    "        id=list_pubs[0],\n",
    "    )\n",
    ")[0].keys()"
   ]
  },
  {
   "cell_type": "code",
   "execution_count": 140,
   "metadata": {},
   "outputs": [
    {
     "name": "stdout",
     "output_type": "stream",
     "text": [
      "Are BET Inhibitors yet Promising Latency-Reversing Agents for HIV-1 Reactivation in AIDS Therapy?\t2021 May 29\tViruses\n",
      "Achieving clinical success with BET inhibitors as anti-cancer agents.\t2021 Apr\tBritish journal of cancer\n",
      "Current advances on the development of BET inhibitors: insights from computational methods.\t2020\tAdvances in protein chemistry and structural biology\n",
      "The emerging role of BET inhibitors in breast cancer.\t2020 Oct\tBreast (Edinburgh, Scotland)\n",
      "Role of BET Inhibitors in Triple Negative Breast Cancers.\t2020 Mar 25\tCancers\n",
      "How Might Bromodomain and Extra-Terminal (BET) Inhibitors Operate in Cardiovascular Disease?\t2019 Apr\tAmerican journal of cardiovascular drugs : drugs, devices, and other interventions\n",
      "Disrupting Acetyl-lysine Interactions: Recent Advance in the Development of BET Inhibitors.\t2018\tCurrent drug targets\n",
      "BET inhibitors as novel therapeutic agents in breast cancer.\t2017 Sep 19\tOncotarget\n",
      "BET inhibitors in metastatic prostate cancer: therapeutic implications and rational drug combinations.\t2017 Dec\tExpert opinion on investigational drugs\n",
      "BET inhibitors: a novel epigenetic approach.\t2017 Aug 1\tAnnals of oncology : official journal of the European Society for Medical Oncology\n",
      "BET Inhibitors as Anticancer Agents: A Patent Review.\t2017 Nov 20\tRecent patents on anti-cancer drug discovery\n",
      "Clinical trials for BET inhibitors run ahead of the science.\t2016 Mar\tDrug discovery today. Technologies\n",
      "BET inhibitors in the treatment of hematologic malignancies: current insights and future prospects.\t2016\tOncoTargets and therapy\n",
      "Molecular Pathways: Targeting the PI3K Pathway in Cancer-BET Inhibitors to the Rescue.\t2016 Jun 1\tClinical cancer research : an official journal of the American Association for Cancer Research\n",
      "BET inhibitors in cancer therapeutics: a patent review.\t2016\tExpert opinion on therapeutic patents\n"
     ]
    }
   ],
   "source": [
    "for id in record['IdList']:\n",
    "    handle = Entrez.esummary(\n",
    "        db='pubmed',\n",
    "        id=id,\n",
    "    )\n",
    "\n",
    "    summary = Entrez.read(handle)[0]\n",
    "    print(f\"{summary['Title']}\\t{summary['PubDate']}\\t{summary['FullJournalName']}\")"
   ]
  },
  {
   "cell_type": "markdown",
   "metadata": {},
   "source": [
    "### Exercice Search NCBI databases and retrieviing document summaries\n",
    "\n",
    "We have a list of search methods for obtaining all research papers contain molecular markers related to human lung cancer. Test each method and find out which is the best method and why?\n",
    "\n",
    "NOTE: \\[Title\\] is very important because when searching for a research paper, the title is the first indication of the information inside the paper, so if the title contains the words you are searching for, then by a large percentage it will contain the information you want to get."
   ]
  },
  {
   "cell_type": "code",
   "execution_count": 111,
   "metadata": {},
   "outputs": [],
   "source": [
    "terms = [\n",
    "    'homo sapiens AND Lung Cancer AND Marker', # will look in all fields, not only the TITL\n",
    "    'Human AND homo sapiens AND Lung Cancer AND Marker', # won't work if homo sapiens and human are used interchangeably\n",
    "    '(Human[Title] OR homo sapiens[Title]) AND Lung Cancer AND Marker',\n",
    "    '(Human[Title] OR homo sapiens[Title]) OR (Lung Cancer[Title] AND Marker[Title])', # won't find articles for disease IN lung cancer\n",
    "    '(Human[Title] OR homo sapiens[Title] OR Lung Cancer[Title] OR Marker[Title]', # bad because will find all about lung cancer OR marker OR human\n",
    "    '(Human[Title] OR homo sapiens[Title]) AND (Lung Cancer[Title] AND Marker[Title])', # like the 3rd term of the list but focussing in the TITL\n",
    "]"
   ]
  },
  {
   "cell_type": "code",
   "execution_count": 113,
   "metadata": {},
   "outputs": [
    {
     "name": "stdout",
     "output_type": "stream",
     "text": [
      "homo sapiens AND Lung Cancer AND Marker\n",
      "37082\n",
      "Human AND homo sapiens AND Lung Cancer AND Marker\n",
      "37081\n",
      "(Human[Title] OR homo sapiens[Title]) AND Lung Cancer AND Marker\n",
      "2757\n",
      "(Human[Title] OR homo sapiens[Title]) OR (Lung Cancer[Title] AND Marker[Title])\n",
      "1029577\n",
      "(Human[Title] OR homo sapiens[Title] OR Lung Cancer[Title] OR Marker[Title]\n",
      "1179756\n",
      "(Human[Title] OR homo sapiens[Title]) AND (Lung Cancer[Title] AND Marker[Title])\n",
      "27\n"
     ]
    }
   ],
   "source": [
    "for term in terms:\n",
    "    handle = Entrez.esearch(\n",
    "        db='pubmed',\n",
    "        term=term,\n",
    "    )\n",
    "\n",
    "    record = Entrez.read(handle)\n",
    "    print(term, record['Count'], sep='\\n')"
   ]
  },
  {
   "cell_type": "code",
   "execution_count": 141,
   "metadata": {},
   "outputs": [
    {
     "name": "stdout",
     "output_type": "stream",
     "text": [
      "{'Count': '27', 'RetMax': '20', 'RetStart': '0', 'IdList': ['34558311', '31307200', '30536321', '30250539', '28875417', '27390594', '26851650', '24829194', '21619671', '19170237', '17628801', '16955534', '12660007', '12627521', '11251963', '9815576', '10920891', '8705998', '7767913', '7514953'], 'TranslationSet': [], 'TranslationStack': [{'Term': 'Lung Cancer[TITL]', 'Field': 'TITL', 'Count': '106471', 'Explode': 'N'}, {'Term': 'Marker[TITL]', 'Field': 'TITL', 'Count': '52458', 'Explode': 'N'}, 'AND', {'Term': 'homo sapiens[TITL]', 'Field': 'TITL', 'Count': '742', 'Explode': 'N'}, {'Term': 'human[TITL]', 'Field': 'TITL', 'Count': '1028305', 'Explode': 'N'}, 'OR', 'GROUP', 'AND'], 'QueryTranslation': 'Lung Cancer[TITL] AND Marker[TITL] AND (homo sapiens[TITL] OR human[TITL])'}\n"
     ]
    }
   ],
   "source": [
    "handle = Entrez.esearch(\n",
    "    db='pubmed',\n",
    "    term=\"Lung Cancer[TITL] AND Marker[TITL] AND (homo sapiens[TITL] OR human[TITL])\",\n",
    ")\n",
    "\n",
    "record = Entrez.read(handle)\n",
    "\n",
    "print(record)"
   ]
  },
  {
   "cell_type": "markdown",
   "metadata": {},
   "source": [
    "What is the Accession Number of the reference nucleotide sequence for the rice plant plastid?\n",
    "\n",
    ">Tips to facilitate the solution: The accession number prefix is NC_"
   ]
  },
  {
   "cell_type": "code",
   "execution_count": 158,
   "metadata": {},
   "outputs": [
    {
     "name": "stdout",
     "output_type": "stream",
     "text": [
      "{'Count': '24', 'RetMax': '24', 'RetStart': '0', 'IdList': ['XM_015755471.2', 'XM_015756359.2', 'XM_015789572.2', 'XM_015786234.2', 'XM_015786233.2', 'XM_015782372.2', 'XM_015782371.2', 'XM_015781167.2', 'XM_015767993.2', 'XM_026021934.1', 'XM_015760769.2', 'XR_001542440.2', 'XM_015765844.2', 'XM_015765843.2', 'XM_015765984.2', 'XM_015766187.2', 'XM_015766186.2', 'XM_015766185.2', 'XM_015757722.2', 'XM_015787291.2', 'XM_015757346.1', 'XM_015785362.1', 'XM_015765845.1', 'NC_001320.1'], 'TranslationSet': [{'From': 'Rice[Organism]', 'To': '\"Oryza sativa\"[Organism]'}], 'TranslationStack': [{'Term': '\"Oryza sativa\"[Organism]', 'Field': 'Organism', 'Count': '2283562', 'Explode': 'Y'}, {'Term': 'RefSeq[Keyword]', 'Field': 'Keyword', 'Count': '79496272', 'Explode': 'N'}, 'AND', {'Term': 'Plastid[Title]', 'Field': 'Title', 'Count': '144512', 'Explode': 'N'}, 'AND'], 'QueryTranslation': '\"Oryza sativa\"[Organism] AND RefSeq[Keyword] AND Plastid[Title]'}\n"
     ]
    }
   ],
   "source": [
    "terms = ['Rice[Organism] AND RefSeq[Keyword] AND Plastid[Title]']\n",
    "\n",
    "handle = Entrez.esearch(\n",
    "    db='nuccore', # same as nucleotide\n",
    "    term=terms[0],\n",
    "    idtype='acc',\n",
    "    retmax=25, # needed to increase because count=24\n",
    ")\n",
    "\n",
    "record = Entrez.read(handle)\n",
    "\n",
    "print(record)"
   ]
  },
  {
   "cell_type": "code",
   "execution_count": 160,
   "metadata": {},
   "outputs": [
    {
     "name": "stdout",
     "output_type": "stream",
     "text": [
      "The Accession Number is: NC_001320.1\n",
      "{'Item': [], 'Id': '11466763', 'Caption': 'NC_001320', 'Title': 'Oryza sativa Japonica Group plastid, complete genome', 'Extra': 'gi|11466763|ref|NC_001320.1||gnl|NCBI_GENOMES|10013[11466763]', 'Gi': IntegerElement(11466763, attributes={}), 'CreateDate': '1989/11/23', 'UpdateDate': '2009/04/15', 'Flags': IntegerElement(768, attributes={}), 'TaxId': IntegerElement(39947, attributes={}), 'Length': IntegerElement(134525, attributes={}), 'Status': 'live', 'ReplacedBy': '', 'Comment': '  ', 'AccessionVersion': 'NC_001320.1'}\n"
     ]
    }
   ],
   "source": [
    "for id in record['IdList']:\n",
    "    if 'NC_' in id:\n",
    "        print(f\"The Accession Number is: {id}\")\n",
    "        handle = Entrez.esummary(\n",
    "            db='nuccore',\n",
    "            id=id,\n",
    "        )\n",
    "\n",
    "        summary = Entrez.read(handle)[0]\n",
    "        print(summary)"
   ]
  },
  {
   "cell_type": "markdown",
   "metadata": {},
   "source": [
    "## Global search at NCBI\n",
    "\n",
    "[EGQuery](https://biopython.org/DIST/docs/tutorial/Tutorial.html#sec151) provides counts for a search term in each of the Entrez databases (i.e. a global query). This is particularly useful to find out how many items your search terms would find in each database without actually performing lots of separate searches with ESearch"
   ]
  },
  {
   "cell_type": "code",
   "execution_count": 109,
   "metadata": {},
   "outputs": [
    {
     "name": "stdout",
     "output_type": "stream",
     "text": [
      "pubmed :  16\n",
      "pmc :  32\n",
      "mesh :  0\n",
      "books :  0\n",
      "pubmedhealth :  Error\n",
      "omim :  0\n",
      "ncbisearch :  0\n",
      "nuccore :  0\n",
      "nucgss :  0\n",
      "nucest :  0\n",
      "protein :  0\n",
      "genome :  0\n",
      "structure :  0\n",
      "taxonomy :  0\n",
      "snp :  0\n",
      "dbvar :  0\n",
      "gene :  0\n",
      "sra :  0\n",
      "biosystems :  0\n",
      "unigene :  0\n",
      "cdd :  0\n",
      "clone :  0\n",
      "popset :  0\n",
      "geoprofiles :  0\n",
      "gds :  0\n",
      "homologene :  0\n",
      "pccompound :  0\n",
      "pcsubstance :  0\n",
      "pcassay :  0\n",
      "nlmcatalog :  0\n",
      "probe :  0\n",
      "gap :  0\n",
      "proteinclusters :  0\n",
      "bioproject :  0\n",
      "biosample :  0\n",
      "biocollections :  0\n"
     ]
    }
   ],
   "source": [
    "handle = Entrez.egquery(\n",
    "    term=\"BET inhibitors[TITL] AND (review[PTYP] OR review[TITL])\",\n",
    ")\n",
    "\n",
    "record = Entrez.read(handle)\n",
    "\n",
    "for row in record[\"eGQueryResult\"]:\n",
    "    print(row['DbName'], \": \", row['Count'])"
   ]
  },
  {
   "cell_type": "markdown",
   "metadata": {},
   "source": [
    "### Exercice\n",
    "\n",
    "```python\n",
    "r = Entrez.read(Entrez.egquery(term=\"Cancer\"))\n",
    "```\n",
    "\n",
    "1. How many PubMed records?\n",
    "2. What is the number of MeSH records?\n",
    "3. How many books?\n",
    "4. How many nucleotide records?"
   ]
  },
  {
   "cell_type": "code",
   "execution_count": 164,
   "metadata": {},
   "outputs": [
    {
     "name": "stdout",
     "output_type": "stream",
     "text": [
      "pubmed :  4430710\n",
      "mesh :  397\n",
      "books :  127903\n",
      "nuccore :  10692351\n"
     ]
    }
   ],
   "source": [
    "handle = Entrez.egquery(\n",
    "    term=\"Cancer\",\n",
    ")\n",
    "\n",
    "record = Entrez.read(handle)\n",
    "\n",
    "for row in record[\"eGQueryResult\"]:\n",
    "    if (db:=row['DbName']) in ['pubmed', 'mesh', 'books', 'nuccore']:\n",
    "        print(db, \": \", row['Count'])"
   ]
  },
  {
   "cell_type": "markdown",
   "metadata": {},
   "source": [
    "## Fetching data from NCBI\n",
    "\n",
    "Three examples of Homo sapiens genes:\n",
    "\n",
    "- HBB\n",
    "- DNASE1L3\n",
    "- OCA2"
   ]
  },
  {
   "cell_type": "code",
   "execution_count": 165,
   "metadata": {},
   "outputs": [
    {
     "name": "stdout",
     "output_type": "stream",
     "text": [
      "{'Count': '6798', 'RetMax': '20', 'RetStart': '0', 'IdList': ['1531243787', '1217338357', '2090987776', '2090987765', '1441565460', '1401724401', '142384133', '2086922094', '2086918440', '2085699295', '2084455553', '2084449657', '2077483945', '2077483944', '2077154353', '2077154352', '2077154351', '2077154350', '2077154349', '2077154348'], 'TranslationSet': [], 'TranslationStack': [{'Term': 'HBB[All Fields]', 'Field': 'All Fields', 'Count': '6798', 'Explode': 'N'}, 'GROUP'], 'QueryTranslation': 'HBB[All Fields]'}\n"
     ]
    }
   ],
   "source": [
    "handle = Entrez.esearch(\n",
    "    db='nucleotide',\n",
    "    term='HBB',\n",
    ")\n",
    "record = Entrez.read(handle)\n",
    "print(record)"
   ]
  },
  {
   "cell_type": "code",
   "execution_count": 167,
   "metadata": {},
   "outputs": [
    {
     "name": "stdout",
     "output_type": "stream",
     "text": [
      "{'Count': '3889', 'RetMax': '20', 'RetStart': '0', 'IdList': ['2090987776', '2090987765', '1401724401', '2085699295', '2084455553', '2084449657', '164448673', '2055116838', '1043620671', '1005667215', '918400561', '28380636', '2043735767', '2043735766', '2043735765', '2043735764', '2043735763', '2043735762', '2043735761', '2043735760'], 'TranslationSet': [], 'TranslationStack': [{'Term': 'HBB[Gene Name]', 'Field': 'Gene Name', 'Count': '3889', 'Explode': 'N'}, 'GROUP'], 'QueryTranslation': 'HBB[Gene Name]'}\n"
     ]
    }
   ],
   "source": [
    "handle = Entrez.esearch(\n",
    "    db='nucleotide',\n",
    "    term='HBB[Gene Name]', # focus on item with the Gene Name specified\n",
    ")\n",
    "record = Entrez.read(handle)\n",
    "print(record)"
   ]
  },
  {
   "cell_type": "code",
   "execution_count": 191,
   "metadata": {},
   "outputs": [
    {
     "name": "stdout",
     "output_type": "stream",
     "text": [
      "{'Count': '71', 'RetMax': '71', 'RetStart': '0', 'IdList': ['NM_000518.5', 'NM_001097648.1', 'NC_056068.1', 'NG_000007.3', 'NC_000011.10', 'NC_000012.12', 'NC_054388.1', 'NM_131020.3', 'NM_001086273.2', 'NM_001304885.1', 'NM_001246752.1', 'NM_001168847.1', 'NM_001164428.1', 'NM_001144841.1', 'NM_001164018.1', 'NM_001123666.1', 'NM_033234.1', 'NG_059281.1', 'NM_001314043.1', 'NM_001082260.3', 'NM_173917.2', 'NC_051336.1', 'NM_001329918.1', 'NW_023666043.1', 'XM_037840313.1', 'NC_051312.1', 'XM_017507286.1', 'NW_016107685.1', 'NC_048596.1', 'NW_003645186.1', 'XM_027407893.2', 'XM_027386456.2', 'NM_001304883.1', 'NM_001304110.1', 'NM_001303935.1', 'NM_001303868.1', 'NM_001303858.1', 'NC_047579.1', 'NW_022611653.1', 'XM_032166808.1', 'XM_032240524.1', 'NW_022436987.1', 'NC_045446.1', 'XM_023209613.1', 'NC_044987.1', 'XM_004090649.3', 'NC_044395.1', 'NG_000940.4', 'NM_001279263.1', 'NM_001201019.1', 'NC_041767.1', 'NC_037342.1', 'NC_036890.1', 'XM_508242.4', 'XM_002822127.4', 'NC_036914.1', 'NC_009150.3', 'NC_010451.4', 'NC_030416.1', 'NC_013669.1', 'NC_022285.1', 'NW_005092989.1', 'NC_027302.1', 'NW_012333576.1', 'XM_005380076.2', 'NW_004955414.1', 'XM_012725027.1', 'NW_004567116.1', 'XM_011963601.1', 'NW_012119777.1', 'NT_086365.3'], 'TranslationSet': [], 'TranslationStack': [{'Term': 'HBB[Gene Name]', 'Field': 'Gene Name', 'Count': '3889', 'Explode': 'N'}, {'Term': 'RefSeq[Keyword]', 'Field': 'Keyword', 'Count': '79496272', 'Explode': 'N'}, 'AND'], 'QueryTranslation': 'HBB[Gene Name] AND RefSeq[Keyword]'}\n"
     ]
    }
   ],
   "source": [
    "handle = Entrez.esearch(\n",
    "    db='nucleotide',\n",
    "    term='HBB[Gene Name] AND RefSeq[Keyword]',\n",
    "    retmax=2000, # beware use a decent number here!\n",
    "    idtype='acc',\n",
    ")\n",
    "record = Entrez.read(handle)\n",
    "print(record)"
   ]
  },
  {
   "cell_type": "code",
   "execution_count": 192,
   "metadata": {},
   "outputs": [
    {
     "name": "stdout",
     "output_type": "stream",
     "text": [
      "23\n",
      "['>NM_000518.5 Homo sapiens hemoglobin subunit beta (HBB), mRNA\\n', '>NM_001097648.1 Ovis aries hemoglobin, beta (HBB), mRNA\\n', '>NM_131020.3 Danio rerio hemoglobin, beta adult 1 (hbba1), mRNA\\n', '>NM_001086273.2 Xenopus laevis hemoglobin subunit delta S homeolog (hbd.S), mRNA\\n', '>NM_001304885.1 Ailuropoda melanoleuca hemoglobin subunit beta (LOC100499574), mRNA\\n', '>NM_001246752.1 Cricetulus griseus beta major globin chain (Hbb), mRNA\\n', '>NM_001168847.1 Papio anubis hemoglobin, beta (HBB), mRNA\\n', '>NM_001164428.1 Macaca mulatta hemoglobin subunit beta (HBB), mRNA\\n', '>NM_001144841.1 Sus scrofa hemoglobin, beta (HBB), mRNA\\n', '>NM_001164018.1 Equus caballus hemoglobin, beta (HBB), mRNA\\n', '>NM_001123666.1 Salmo salar beta globin (LOC100136576), mRNA\\n', '>NM_033234.1 Rattus norvegicus hemoglobin subunit beta (Hbb), mRNA\\n', '>NM_001314043.1 Oryctolagus cuniculus hemoglobin, beta (HBB2), transcript variant 1, mRNA\\n', '>NM_001082260.3 Oryctolagus cuniculus hemoglobin, beta (HBB2), transcript variant 1, mRNA\\n', '>NM_173917.2 Bos taurus hemoglobin, beta (HBB), mRNA\\n', '>NM_001329918.1 Chlorocebus sabaeus hemoglobin subunit beta (HBB), mRNA\\n', '>NM_001304883.1 Ailuropoda melanoleuca hemoglobin subunit beta-like (LOC100499573), mRNA\\n', '>NM_001304110.1 Esox lucius hemoglobin subunit beta (LOC105010112), mRNA\\n', '>NM_001303935.1 Esox lucius hemoglobin subunit beta (LOC105013372), mRNA\\n', '>NM_001303868.1 Esox lucius hemoglobin, beta (LOC105028448), mRNA\\n', '>NM_001303858.1 Esox lucius hemoglobin subunit beta (LOC105028446), mRNA\\n', '>NM_001279263.1 Condylura cristata hemoglobin, beta (HBB), mRNA\\n', '>NM_001201019.1 Ictalurus punctatus hemoglobin subunit beta (hbb), mRNA\\n']\n"
     ]
    }
   ],
   "source": [
    "counter=0\n",
    "fetch_list = []\n",
    "\n",
    "for ID in record['IdList']:\n",
    "    if 'NM_' in ID: # NM stands for mRNA\n",
    "        counter+=1\n",
    "        fetch = Entrez.efetch(\n",
    "            db='nucleotide',\n",
    "            id=ID,\n",
    "            rettype='fasta',\n",
    "            retmode='text',\n",
    "        )\n",
    "\n",
    "        #read_fetch = fetch.read() # same as Entrez.read\n",
    "        read_fetch = fetch.readline() # get only the 1st line\n",
    "        fetch_list.append(read_fetch)\n",
    "        #print(readFetch)\n",
    "\n",
    "print(counter)\n",
    "print(fetch_list)"
   ]
  },
  {
   "cell_type": "code",
   "execution_count": 193,
   "metadata": {},
   "outputs": [],
   "source": [
    "fetch_list = []\n",
    "\n",
    "for ID in record['IdList']:\n",
    "    if 'NM_' in ID: # NM stands for mRNA, XM predicted mRNA, NC genomic\n",
    "        fetch = Entrez.efetch(\n",
    "            db='nucleotide',\n",
    "            id=ID,\n",
    "            rettype='fasta',\n",
    "            retmode='text',\n",
    "        )\n",
    "\n",
    "        read_fetch = fetch.read() # same as Entrez.read\n",
    "        #read_fetch = fetch.readline() # get only the 1st line\n",
    "        fetch_list.append(read_fetch)\n",
    "\n",
    "for file in fetch_list:\n",
    "    with open('HBB.fasta', 'a+') as saved_file:\n",
    "        saved_file.write(file)"
   ]
  },
  {
   "cell_type": "markdown",
   "metadata": {},
   "source": [
    "For another search and fetch, we just have to change the `term` and the final filename"
   ]
  },
  {
   "cell_type": "code",
   "execution_count": 194,
   "metadata": {},
   "outputs": [
    {
     "name": "stdout",
     "output_type": "stream",
     "text": [
      "Item count after search = 1152\n",
      "Item count after filtering = 10\n"
     ]
    }
   ],
   "source": [
    "fetch_list = []\n",
    "\n",
    "handle = Entrez.esearch(\n",
    "    db='nucleotide',\n",
    "    term='OCA2[Gene Name] AND RefSeq[Keyword]',\n",
    "    retmax=2000,\n",
    "    idtype='acc',\n",
    ")\n",
    "\n",
    "record = Entrez.read(handle)\n",
    "print(f\"Item count after search = {record['Count']}\")\n",
    "\n",
    "for ID in record['IdList']:\n",
    "    if 'NM_' in ID: # NM stands for mRNA\n",
    "        fetch = Entrez.efetch(\n",
    "            db='nucleotide',\n",
    "            id=ID,\n",
    "            rettype='fasta',\n",
    "            retmode='text',\n",
    "        )\n",
    "\n",
    "        read_fetch = fetch.read() # same as Entrez.read\n",
    "        fetch_list.append(read_fetch)\n",
    "\n",
    "print(f\"Item count after filtering = {len(fetch_list)}\")\n",
    "\n",
    "for file in fetch_list:\n",
    "    with open('OCA2.fasta', 'a+') as saved_file:\n",
    "        saved_file.write(file)"
   ]
  },
  {
   "cell_type": "code",
   "execution_count": 198,
   "metadata": {},
   "outputs": [
    {
     "name": "stdout",
     "output_type": "stream",
     "text": [
      "Item count after search = 730\n",
      "Item count after filtering = 10\n"
     ]
    }
   ],
   "source": [
    "fetch_list = []\n",
    "\n",
    "handle = Entrez.esearch(\n",
    "    db='nucleotide',\n",
    "    term='DNASE1L3[Gene Name] AND RefSeq[Keyword]',\n",
    "    retmax=1000,\n",
    "    idtype='acc',\n",
    ")\n",
    "\n",
    "record = Entrez.read(handle)\n",
    "print(f\"Item count after search = {record['Count']}\")\n",
    "\n",
    "for ID in record['IdList']:\n",
    "    if 'NM_' in ID: # NM stands for mRNA\n",
    "        fetch = Entrez.efetch(\n",
    "            db='nucleotide',\n",
    "            id=ID,\n",
    "            rettype='fasta',\n",
    "            retmode='text',\n",
    "        )\n",
    "\n",
    "        read_fetch = fetch.read() # same as Entrez.read\n",
    "        fetch_list.append(read_fetch)\n",
    "\n",
    "print(f\"Item count after filtering = {len(fetch_list)}\")\n",
    "\n",
    "for file in fetch_list:\n",
    "    with open('DNASE1L3.fasta', 'a+') as saved_file:\n",
    "        saved_file.write(file)"
   ]
  },
  {
   "cell_type": "markdown",
   "metadata": {},
   "source": [
    "Fetch the sequences from a specific organism"
   ]
  },
  {
   "cell_type": "code",
   "execution_count": 199,
   "metadata": {},
   "outputs": [
    {
     "name": "stdout",
     "output_type": "stream",
     "text": [
      "Item count after search = 4\n",
      "Item count after filtering = 2\n"
     ]
    }
   ],
   "source": [
    "fetch_list = []\n",
    "\n",
    "handle = Entrez.esearch(\n",
    "    db='nucleotide',\n",
    "    term='DNASE1L3[Gene Name] AND RefSeq[Keyword] AND Homo sapiens[Organism]',\n",
    "    retmax=1000,\n",
    "    idtype='acc',\n",
    ")\n",
    "\n",
    "record = Entrez.read(handle)\n",
    "print(f\"Item count after search = {record['Count']}\")\n",
    "\n",
    "for ID in record['IdList']:\n",
    "    if 'NM_' in ID: # NM stands for mRNA\n",
    "        fetch = Entrez.efetch(\n",
    "            db='nucleotide',\n",
    "            id=ID,\n",
    "            rettype='fasta',\n",
    "            retmode='text',\n",
    "        )\n",
    "\n",
    "        read_fetch = fetch.read() # same as Entrez.read\n",
    "        fetch_list.append(read_fetch)\n",
    "\n",
    "print(f\"Item count after filtering = {len(fetch_list)}\")\n",
    "\n",
    "for file in fetch_list:\n",
    "    with open('DNASE1L3-human.fasta', 'a+') as saved_file:\n",
    "        saved_file.write(file)"
   ]
  },
  {
   "cell_type": "markdown",
   "metadata": {},
   "source": [
    "A different format, e.g. GenBank"
   ]
  },
  {
   "cell_type": "code",
   "execution_count": 200,
   "metadata": {},
   "outputs": [
    {
     "name": "stdout",
     "output_type": "stream",
     "text": [
      "Item count after search = 4\n",
      "Item count after filtering = 2\n"
     ]
    }
   ],
   "source": [
    "fetch_list = []\n",
    "\n",
    "handle = Entrez.esearch(\n",
    "    db='nucleotide',\n",
    "    term='DNASE1L3[Gene Name] AND RefSeq[Keyword] AND Homo sapiens[Organism]',\n",
    "    retmax=1000,\n",
    "    idtype='acc',\n",
    ")\n",
    "\n",
    "record = Entrez.read(handle)\n",
    "print(f\"Item count after search = {record['Count']}\")\n",
    "\n",
    "for ID in record['IdList']:\n",
    "    if 'NM_' in ID: # NM stands for mRNA\n",
    "        fetch = Entrez.efetch(\n",
    "            db='nucleotide',\n",
    "            id=ID,\n",
    "            rettype='gb',\n",
    "            retmode='text',\n",
    "        )\n",
    "\n",
    "        read_fetch = fetch.read() # same as Entrez.read\n",
    "        fetch_list.append(read_fetch)\n",
    "\n",
    "print(f\"Item count after filtering = {len(fetch_list)}\")\n",
    "\n",
    "for file in fetch_list:\n",
    "    with open('DNASE1L3-human.gb', 'a+') as saved_file:\n",
    "        saved_file.write(file)"
   ]
  },
  {
   "cell_type": "code",
   "execution_count": null,
   "metadata": {},
   "outputs": [],
   "source": []
  }
 ],
 "metadata": {
  "interpreter": {
   "hash": "35e05afc3bbf8458d25376a416e873cf169d04b2fc4efc2b77204c35b02a6d38"
  },
  "kernelspec": {
   "display_name": "Python 3.9.6 64-bit",
   "name": "python3"
  },
  "language_info": {
   "codemirror_mode": {
    "name": "ipython",
    "version": 3
   },
   "file_extension": ".py",
   "mimetype": "text/x-python",
   "name": "python",
   "nbconvert_exporter": "python",
   "pygments_lexer": "ipython3",
   "version": "3.9.6"
  },
  "orig_nbformat": 4
 },
 "nbformat": 4,
 "nbformat_minor": 2
}
