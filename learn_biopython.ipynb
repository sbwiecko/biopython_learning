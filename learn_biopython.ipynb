{
 "cells": [
  {
   "cell_type": "markdown",
   "metadata": {},
   "source": [
    "# NCBI Databases Information"
   ]
  },
  {
   "cell_type": "code",
   "execution_count": 2,
   "metadata": {},
   "outputs": [],
   "source": [
    "from Bio import Entrez\n",
    "Entrez.email = 'sbwiecko@free.fr'"
   ]
  },
  {
   "cell_type": "markdown",
   "metadata": {},
   "source": [
    "## Obtaining information about the Entrez databases\n",
    "\n",
    "See also [https://biopython.org/DIST/docs/tutorial/Tutorial.html#sec145](https://biopython.org/DIST/docs/tutorial/Tutorial.html#sec145)."
   ]
  },
  {
   "cell_type": "code",
   "execution_count": 3,
   "metadata": {},
   "outputs": [
    {
     "name": "stdout",
     "output_type": "stream",
     "text": [
      "<class 'Bio.Entrez.Parser.DictionaryElement'>\n",
      "dict_keys(['DbList'])\n",
      "['pubmed', 'protein', 'nuccore', 'ipg', 'nucleotide', 'structure', 'genome', 'annotinfo', 'assembly', 'bioproject', 'biosample', 'blastdbinfo', 'books', 'cdd', 'clinvar', 'gap', 'gapplus', 'grasp', 'dbvar', 'gene', 'gds', 'geoprofiles', 'homologene', 'medgen', 'mesh', 'ncbisearch', 'nlmcatalog', 'omim', 'orgtrack', 'pmc', 'popset', 'proteinclusters', 'pcassay', 'protfam', 'biosystems', 'pccompound', 'pcsubstance', 'seqannot', 'snp', 'sra', 'taxonomy', 'biocollections', 'gtr']\n"
     ]
    }
   ],
   "source": [
    "record = Entrez.read(Entrez.einfo())\n",
    "print(type(record))\n",
    "print(record.keys())\n",
    "print(record['DbList'])"
   ]
  },
  {
   "cell_type": "markdown",
   "metadata": {},
   "source": [
    "## Read information from a particular database"
   ]
  },
  {
   "cell_type": "code",
   "execution_count": 4,
   "metadata": {},
   "outputs": [
    {
     "name": "stdout",
     "output_type": "stream",
     "text": [
      "DbName : genome\n",
      "MenuName : Genome\n",
      "Description : Genomic sequences, contigs, and maps\n",
      "DbBuild : Build211011-0955.1\n",
      "Count : 81132\n",
      "LastUpdate : 2021/10/11 10:36\n",
      "FieldList : [{'Name': 'ALL', 'FullName': 'All Fields', 'Description': 'All terms from all searchable fields', 'TermCount': '13097606', 'IsDate': 'N', 'IsNumerical': 'N', 'SingleToken': 'N', 'Hierarchy': 'N', 'IsHidden': 'N'}, {'Name': 'UID', 'FullName': 'UID', 'Description': 'Unique number assigned to genome', 'TermCount': '0', 'IsDate': 'N', 'IsNumerical': 'Y', 'SingleToken': 'Y', 'Hierarchy': 'N', 'IsHidden': 'Y'}, {'Name': 'FILT', 'FullName': 'Filter', 'Description': 'Limits the records', 'TermCount': '17', 'IsDate': 'N', 'IsNumerical': 'N', 'SingleToken': 'Y', 'Hierarchy': 'N', 'IsHidden': 'N'}, {'Name': 'ORGN', 'FullName': 'Organism', 'Description': 'Organism', 'TermCount': '610398', 'IsDate': 'N', 'IsNumerical': 'N', 'SingleToken': 'Y', 'Hierarchy': 'Y', 'IsHidden': 'N'}, {'Name': 'PID', 'FullName': 'ProjectID', 'Description': 'Project ID', 'TermCount': '121701', 'IsDate': 'N', 'IsNumerical': 'Y', 'SingleToken': 'Y', 'Hierarchy': 'N', 'IsHidden': 'N'}, {'Name': 'PRJA', 'FullName': 'Project Accession', 'Description': 'Project Accession', 'TermCount': '121698', 'IsDate': 'N', 'IsNumerical': 'N', 'SingleToken': 'Y', 'Hierarchy': 'N', 'IsHidden': 'N'}, {'Name': 'PRJT', 'FullName': 'Project Type', 'Description': 'Project Type', 'TermCount': '21', 'IsDate': 'N', 'IsNumerical': 'N', 'SingleToken': 'Y', 'Hierarchy': 'N', 'IsHidden': 'N'}, {'Name': 'DFLN', 'FullName': 'Title', 'Description': 'Genome short description', 'TermCount': '58451', 'IsDate': 'N', 'IsNumerical': 'N', 'SingleToken': 'Y', 'Hierarchy': 'N', 'IsHidden': 'N'}, {'Name': 'DSCR', 'FullName': 'Genome description', 'Description': 'Genome full description', 'TermCount': '34788', 'IsDate': 'N', 'IsNumerical': 'N', 'SingleToken': 'Y', 'Hierarchy': 'N', 'IsHidden': 'N'}, {'Name': 'STAT', 'FullName': 'Status', 'Description': 'Bioproject status', 'TermCount': '4', 'IsDate': 'N', 'IsNumerical': 'N', 'SingleToken': 'Y', 'Hierarchy': 'N', 'IsHidden': 'N'}, {'Name': 'AID', 'FullName': 'AssemblyID', 'Description': 'Release ID of full assembly', 'TermCount': '428095', 'IsDate': 'N', 'IsNumerical': 'Y', 'SingleToken': 'Y', 'Hierarchy': 'N', 'IsHidden': 'N'}, {'Name': 'AACC', 'FullName': 'Assembly Accession', 'Description': 'Accession of full assembly', 'TermCount': '428095', 'IsDate': 'N', 'IsNumerical': 'N', 'SingleToken': 'Y', 'Hierarchy': 'N', 'IsHidden': 'N'}, {'Name': 'ANAM', 'FullName': 'Assembly Name', 'Description': 'Name of full assembly', 'TermCount': '965537', 'IsDate': 'N', 'IsNumerical': 'N', 'SingleToken': 'Y', 'Hierarchy': 'N', 'IsHidden': 'N'}, {'Name': 'GI', 'FullName': 'Replicon GI', 'Description': 'Replicon GI', 'TermCount': '692387', 'IsDate': 'N', 'IsNumerical': 'Y', 'SingleToken': 'Y', 'Hierarchy': 'N', 'IsHidden': 'N'}, {'Name': 'ACCN', 'FullName': 'Replicon accession', 'Description': 'Replicon Accession', 'TermCount': '1728736', 'IsDate': 'N', 'IsNumerical': 'N', 'SingleToken': 'Y', 'Hierarchy': 'N', 'IsHidden': 'N'}, {'Name': 'RNAM', 'FullName': 'Replicon name', 'Description': 'Replicon Name', 'TermCount': '24575', 'IsDate': 'N', 'IsNumerical': 'N', 'SingleToken': 'Y', 'Hierarchy': 'N', 'IsHidden': 'N'}, {'Name': 'PACC', 'FullName': 'Protein Accession', 'Description': 'Protein Accession', 'TermCount': '0', 'IsDate': 'N', 'IsNumerical': 'N', 'SingleToken': 'Y', 'Hierarchy': 'N', 'IsHidden': 'N'}, {'Name': 'PROT', 'FullName': 'Protein Name', 'Description': 'Protein Name', 'TermCount': '0', 'IsDate': 'N', 'IsNumerical': 'N', 'SingleToken': 'Y', 'Hierarchy': 'N', 'IsHidden': 'N'}, {'Name': 'PGI', 'FullName': 'Protein GI', 'Description': 'protein GI', 'TermCount': '0', 'IsDate': 'N', 'IsNumerical': 'Y', 'SingleToken': 'Y', 'Hierarchy': 'N', 'IsHidden': 'N'}, {'Name': 'GNID', 'FullName': 'GeneID', 'Description': 'GeneID', 'TermCount': '0', 'IsDate': 'N', 'IsNumerical': 'Y', 'SingleToken': 'Y', 'Hierarchy': 'N', 'IsHidden': 'N'}, {'Name': 'GENE', 'FullName': 'Gene Name', 'Description': 'Gene Name', 'TermCount': '7463973', 'IsDate': 'N', 'IsNumerical': 'N', 'SingleToken': 'Y', 'Hierarchy': 'N', 'IsHidden': 'N'}, {'Name': 'LTAG', 'FullName': 'Locus Tag', 'Description': 'Locus Tag', 'TermCount': '0', 'IsDate': 'N', 'IsNumerical': 'N', 'SingleToken': 'Y', 'Hierarchy': 'N', 'IsHidden': 'N'}, {'Name': 'WGSP', 'FullName': 'WGS prefix', 'Description': 'WGS Prefix', 'TermCount': '584867', 'IsDate': 'N', 'IsNumerical': 'N', 'SingleToken': 'Y', 'Hierarchy': 'N', 'IsHidden': 'N'}, {'Name': 'PMID', 'FullName': 'PubMed ID', 'Description': 'Unique identifier from PubMed', 'TermCount': '25527', 'IsDate': 'N', 'IsNumerical': 'Y', 'SingleToken': 'Y', 'Hierarchy': 'N', 'IsHidden': 'N'}, {'Name': 'BIOP', 'FullName': 'biological properties', 'Description': 'Biological Properties', 'TermCount': '0', 'IsDate': 'N', 'IsNumerical': 'N', 'SingleToken': 'Y', 'Hierarchy': 'N', 'IsHidden': 'N'}, {'Name': 'PCID', 'FullName': 'ProtClust ID', 'Description': 'Protein Clusters ID', 'TermCount': '53', 'IsDate': 'N', 'IsNumerical': 'Y', 'SingleToken': 'Y', 'Hierarchy': 'N', 'IsHidden': 'N'}, {'Name': 'PROP', 'FullName': 'Properties', 'Description': 'Project/Organism Properties', 'TermCount': '8', 'IsDate': 'N', 'IsNumerical': 'N', 'SingleToken': 'Y', 'Hierarchy': 'N', 'IsHidden': 'N'}, {'Name': 'CDT', 'FullName': 'Create Date', 'Description': 'Create Date', 'TermCount': '6870', 'IsDate': 'Y', 'IsNumerical': 'N', 'SingleToken': 'Y', 'Hierarchy': 'N', 'IsHidden': 'N'}, {'Name': 'STRN', 'FullName': 'Strain', 'Description': 'Organism Strain', 'TermCount': '354549', 'IsDate': 'N', 'IsNumerical': 'N', 'SingleToken': 'Y', 'Hierarchy': 'N', 'IsHidden': 'N'}, {'Name': 'HOST', 'FullName': 'Host', 'Description': 'Organism Host', 'TermCount': '33', 'IsDate': 'N', 'IsNumerical': 'N', 'SingleToken': 'Y', 'Hierarchy': 'N', 'IsHidden': 'N'}]\n",
      "LinkList : [{'Name': 'genome_assembly', 'Menu': 'Assembly', 'Description': 'Related Assembly records', 'DbTo': 'assembly'}, {'Name': 'genome_bioproject', 'Menu': 'BioProject Links', 'Description': 'Related BioProjects', 'DbTo': 'bioproject'}, {'Name': 'genome_gene', 'Menu': 'Gene Links', 'Description': 'Related Gene', 'DbTo': 'gene'}, {'Name': 'genome_nuccore', 'Menu': 'Components', 'Description': 'Constituent nucleotide sequence', 'DbTo': 'nuccore'}, {'Name': 'genome_nuccore_samespecies', 'Menu': 'Other genomes for species', 'Description': 'Other (nearly) complete genomes or particular genomic segments for the species from DDBJ/EMBL/GenBank', 'DbTo': 'nuccore'}, {'Name': 'genome_protein', 'Menu': 'Protein Links', 'Description': 'Constituent protein sequence', 'DbTo': 'protein'}, {'Name': 'genome_proteinclusters', 'Menu': 'Protein Cluster Links', 'Description': 'Related Protein Clusters', 'DbTo': 'proteinclusters'}, {'Name': 'genome_pubmed', 'Menu': 'PubMed Links', 'Description': 'PubMed articles cited by genome record', 'DbTo': 'pubmed'}, {'Name': 'genome_taxonomy', 'Menu': 'Taxonomy Links', 'Description': 'Taxonomy sequences associated with genome record', 'DbTo': 'taxonomy'}]\n"
     ]
    }
   ],
   "source": [
    "record = Entrez.read(Entrez.einfo(db='genome')) # added `db` param\n",
    "\n",
    "for key in record['DbInfo'].keys(): # changed the key name\n",
    "    print(key, ':', record['DbInfo'][key])"
   ]
  },
  {
   "cell_type": "code",
   "execution_count": 12,
   "metadata": {},
   "outputs": [
    {
     "data": {
      "text/plain": [
       "'All terms from all searchable fields'"
      ]
     },
     "execution_count": 12,
     "metadata": {},
     "output_type": "execute_result"
    }
   ],
   "source": [
    "Entrez.read(Entrez.einfo(db='pmc'))['DbInfo']['FieldList'][0]['Description']"
   ]
  },
  {
   "cell_type": "markdown",
   "metadata": {},
   "source": [
    "## Obtaining spelling suggestions\n",
    "\n",
    "Suggests spelling corrections. See also [https://biopython.org/DIST/docs/tutorial/Tutorial.html#sec152](https://biopython.org/DIST/docs/tutorial/Tutorial.html#sec152)"
   ]
  },
  {
   "cell_type": "code",
   "execution_count": 13,
   "metadata": {},
   "outputs": [
    {
     "name": "stdout",
     "output_type": "stream",
     "text": [
      "<class 'Bio.Entrez.Parser.DictionaryElement'>\n",
      "dict_keys(['Database', 'Query', 'CorrectedQuery', 'SpelledQuery'])\n",
      "Database : pmc\n",
      "Query : biobython\n",
      "CorrectedQuery : biopython\n",
      "SpelledQuery : ['', 'biopython']\n"
     ]
    }
   ],
   "source": [
    "term = 'biobython' # entered a mispelled term\n",
    "\n",
    "record = Entrez.read(\n",
    "    Entrez.espell(\n",
    "        db='pmc',\n",
    "        term=term,\n",
    "    ))\n",
    "print(type(record))\n",
    "print(record.keys())\n",
    "\n",
    "for key in record.keys(): # changed the key name\n",
    "    print(key, ':', record[key])"
   ]
  },
  {
   "cell_type": "markdown",
   "metadata": {},
   "source": [
    "### Exercice spelling correction\n",
    "\n",
    "The The following list contains 45 scientific names for animals. We want to ensure that these names are correct. Print the name of the query and the correction you received."
   ]
  },
  {
   "cell_type": "code",
   "execution_count": null,
   "metadata": {},
   "outputs": [],
   "source": [
    "sciNames = [\n",
    "    'Bos gaurus',\n",
    "    'Antelope cervicapra',\n",
    "    'Gazella bennettii',\n",
    "    'Boselaphus tragocamelus',\n",
    "    'Canis lupus',\n",
    "    'Panthera leo',\n",
    "    'Elephas maximus',\n",
    "    'Equus africanus',\n",
    "    'Panthera pardus',\n",
    "    'Cervus canadensis',\n",
    "    'Pavo cristatus',\n",
    "    'Grus leucogeranus',\n",
    "    'Vulpes vulpes',\n",
    "    'Rhinoceros unicornis',\n",
    "    'Panthera Tigris',\n",
    "    'Crocodylus palustris',\n",
    "    'Gavialis gangeticus',\n",
    "    'Equus caballus',\n",
    "    'Equus quagga',\n",
    "    'Babalus bubalis',\n",
    "    'Sus scrofa',\n",
    "    'Camelus dromedaries',\n",
    "    'Giraffa camelopardalis ',\n",
    "    'Hemidactylus flaviviridis',\n",
    "    'Hippopotamus amphibius',\n",
    "    'Macaca mulatta',\n",
    "    'Canis lupus',\n",
    "    'Felis domesticus',\n",
    "    'Acinonyx jubatus',\n",
    "    'Rattus rattus',\n",
    "    'Mus musculus',\n",
    "    'Oryctolagus cuniculus',\n",
    "    'Bubo virginianus',\n",
    "    'Passer domesticus',\n",
    "    'Corvus splendens',\n",
    "    'Acridotheres tristis',\n",
    "    'Psittacula eupatria',\n",
    "    'Molpastes cafer',\n",
    "    'Eudynamis scolopaccus',\n",
    "    'Columba livia',\n",
    "    'Naja naja',\n",
    "    'Ophiophagus hannah',\n",
    "    'Hydrophiinae ',\n",
    "    'Python molurus',\n",
    "    'Ptyas mucosa'\n",
    "]"
   ]
  }
 ],
 "metadata": {
  "interpreter": {
   "hash": "b51595f36012c8da2bf2284ebbd8d377d5c2d31fa7484164f2d2bcda7a09b462"
  },
  "kernelspec": {
   "display_name": "Python 3.9.7 64-bit (system)",
   "name": "python3"
  },
  "language_info": {
   "codemirror_mode": {
    "name": "ipython",
    "version": 3
   },
   "file_extension": ".py",
   "mimetype": "text/x-python",
   "name": "python",
   "nbconvert_exporter": "python",
   "pygments_lexer": "ipython3",
   "version": "3.9.7"
  },
  "orig_nbformat": 4
 },
 "nbformat": 4,
 "nbformat_minor": 2
}
