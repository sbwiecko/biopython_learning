{
 "cells": [
  {
   "cell_type": "markdown",
   "metadata": {},
   "source": [
    " # Central dogma"
   ]
  },
  {
   "cell_type": "code",
   "execution_count": 1,
   "metadata": {},
   "outputs": [
    {
     "name": "stdout",
     "output_type": "stream",
     "text": [
      "NM_000518.5\n",
      "ACATTTGCTTCTGACACAACTGTGTTCACTAGCAACCTCAAACAGACACCATGGTGCATCTGACTCCTGAGGAGAAGTCTGCCGTTACTGCCCTGTGGGGCAAGGTGAACGTGGATGAAGTTGGTGGTGAGGCCCTGGGCAGGCTGCTGGTGGTCTACCCTTGGACCCAGAGGTTCTTTGAGTCCTTTGGGGATCTGTCCACTCCTGATGCTGTTATGGGCAACCCTAAGGTGAAGGCTCATGGCAAGAAAGTGCTCGGTGCCTTTAGTGATGGCCTGGCTCACCTGGACAACCTCAAGGGCACCTTTGCCACACTGAGTGAGCTGCACTGTGACAAGCTGCACGTGGATCCTGAGAACTTCAGGCTCCTGGGCAACGTGCTGGTCTGTGTGCTGGCCCATCACTTTGGCAAAGAATTCACCCCACCAGTGCAGGCTGCCTATCAGAAAGTGGTGGCTGGTGTGGCTAATGCCCTGGCCCACAAGTATCACTAAGCTCGCTTTCTTGCTGTCCAATTTCTATTAAAGGTTCCTTTGTTCCCTAAGTCCAACTACTAAACTGGGGGATATTATGAAGGGCCTTGAGCATCTGGATTCTGCCTAATAAAAAACATTTATTTTCATTGCAA\n"
     ]
    }
   ],
   "source": [
    "from Bio import SeqIO\n",
    "from Bio.Seq import *\n",
    "\n",
    "record = SeqIO.parse(\n",
    "    handle = 'HBB-human.fasta',\n",
    "    format='fasta',\n",
    ")\n",
    "\n",
    "for element in record: # record is an iterator\n",
    "    sequence = element # pick up the first element\n",
    "    break              # and break\n",
    "\n",
    "print(sequence.id)\n",
    "print(dna:=sequence.seq)"
   ]
  },
  {
   "cell_type": "code",
   "execution_count": 2,
   "metadata": {},
   "outputs": [
    {
     "name": "stdout",
     "output_type": "stream",
     "text": [
      "ACAUUUGCUUCUGACACAACUGUGUUCACUAGCAACCUCAAACAGACACCAUGGUGCAUCUGACUCCUGAGGAGAAGUCUGCCGUUACUGCCCUGUGGGGCAAGGUGAACGUGGAUGAAGUUGGUGGUGAGGCCCUGGGCAGGCUGCUGGUGGUCUACCCUUGGACCCAGAGGUUCUUUGAGUCCUUUGGGGAUCUGUCCACUCCUGAUGCUGUUAUGGGCAACCCUAAGGUGAAGGCUCAUGGCAAGAAAGUGCUCGGUGCCUUUAGUGAUGGCCUGGCUCACCUGGACAACCUCAAGGGCACCUUUGCCACACUGAGUGAGCUGCACUGUGACAAGCUGCACGUGGAUCCUGAGAACUUCAGGCUCCUGGGCAACGUGCUGGUCUGUGUGCUGGCCCAUCACUUUGGCAAAGAAUUCACCCCACCAGUGCAGGCUGCCUAUCAGAAAGUGGUGGCUGGUGUGGCUAAUGCCCUGGCCCACAAGUAUCACUAAGCUCGCUUUCUUGCUGUCCAAUUUCUAUUAAAGGUUCCUUUGUUCCCUAAGUCCAACUACUAAACUGGGGGAUAUUAUGAAGGGCCUUGAGCAUCUGGAUUCUGCCUAAUAAAAAACAUUUAUUUUCAUUGCAA\n"
     ]
    }
   ],
   "source": [
    "# beware to work on Seq.seq and not the Seq object itself\n",
    "rna = transcribe(dna)\n",
    "print(rna)"
   ]
  },
  {
   "cell_type": "code",
   "execution_count": 11,
   "metadata": {},
   "outputs": [
    {
     "data": {
      "text/plain": [
       "Seq('ACAUUUGCUUCUGACACAACUGUGUUCACUAGCAACCUCAAACAGACACCAUGG...CAA')"
      ]
     },
     "execution_count": 11,
     "metadata": {},
     "output_type": "execute_result"
    }
   ],
   "source": [
    "# Seq object\n",
    "rna"
   ]
  },
  {
   "cell_type": "code",
   "execution_count": 12,
   "metadata": {},
   "outputs": [
    {
     "data": {
      "text/plain": [
       "Seq('ACATTTGCTTCTGACACAACTGTGTTCACTAGCAACCTCAAACAGACACCATGG...CAA')"
      ]
     },
     "execution_count": 12,
     "metadata": {},
     "output_type": "execute_result"
    }
   ],
   "source": [
    "back_transcribe(rna)"
   ]
  },
  {
   "cell_type": "code",
   "execution_count": 17,
   "metadata": {},
   "outputs": [
    {
     "name": "stdout",
     "output_type": "stream",
     "text": [
      "TGTAAACGAAGACTGTGTTGACACAAGTGATCGTTGGAGTTTGTCTGTGGTACCACGTAGACTGAGGACTCCTCTTCAGACGGCAATGACGGGACACCCCGTTCCACTTGCACCTACTTCAACCACCACTCCGGGACCCGTCCGACGACCACCAGATGGGAACCTGGGTCTCCAAGAAACTCAGGAAACCCCTAGACAGGTGAGGACTACGACAATACCCGTTGGGATTCCACTTCCGAGTACCGTTCTTTCACGAGCCACGGAAATCACTACCGGACCGAGTGGACCTGTTGGAGTTCCCGTGGAAACGGTGTGACTCACTCGACGTGACACTGTTCGACGTGCACCTAGGACTCTTGAAGTCCGAGGACCCGTTGCACGACCAGACACACGACCGGGTAGTGAAACCGTTTCTTAAGTGGGGTGGTCACGTCCGACGGATAGTCTTTCACCACCGACCACACCGATTACGGGACCGGGTGTTCATAGTGATTCGAGCGAAAGAACGACAGGTTAAAGATAATTTCCAAGGAAACAAGGGATTCAGGTTGATGATTTGACCCCCTATAATACTTCCCGGAACTCGTAGACCTAAGACGGATTATTTTTTGTAAATAAAAGTAACGTT\n"
     ]
    }
   ],
   "source": [
    "complement = complement(dna)\n",
    "print(complement)"
   ]
  },
  {
   "cell_type": "code",
   "execution_count": 19,
   "metadata": {},
   "outputs": [
    {
     "name": "stdout",
     "output_type": "stream",
     "text": [
      "AACGTTACTTTTATTTACAAAAAATAATCCGTCTTAGGTCTACGAGTTCCGGGAAGTATTATAGGGGGTCAAATCATCAACCTGAATCCCTTGTTTCCTTGGAAATTATCTTTAACCTGTCGTTCTTTCGCTCGAATCACTATGAACACCCGGTCCCGTAATCGGTGTGGTCGGTGGTGAAAGACTATCCGTCGGACGTGACCACCCCACTTAAGAAACGGTTTCACTACCCGGTCGTGTGTCTGGTCGTGCAACGGGTCCTCGGACTTCAAGAGTCCTAGGTGCACGTCGAACAGTGTCACGTCGAGTGAGTCACACCGTTTCCACGGGAACTCCAACAGGTCCACTCGGTCCGGTAGTGATTTCCGTGGCTCGTGAAAGAACGGTACTCGGAAGTGGAATCCCAACGGGTATTGTCGTAGTCCTCACCTGTCTAGGGGTTTCCTGAGTTTCTTGGAGACCCAGGTTCCCATCTGGTGGTCGTCGGACGGGTCCCGGAGTGGTGGTTGAAGTAGGTGCAAGTGGAACGGGGTGTCCCGTCATTGCCGTCTGAAGAGGAGTCCTCAGTCTACGTGGTACCACAGACAAACTCCAACGATCACTTGTGTCAACACAGTCTTCGTTTACA\n"
     ]
    }
   ],
   "source": [
    "reverse = dna[::-1]\n",
    "print(reverse)"
   ]
  },
  {
   "cell_type": "code",
   "execution_count": 27,
   "metadata": {},
   "outputs": [
    {
     "name": "stdout",
     "output_type": "stream",
     "text": [
      "TTGCAATGAAAATAAATGTTTTTTATTAGGCAGAATCCAGATGCTCAAGGCCCTTCATAATATCCCCCAGTTTAGTAGTTGGACTTAGGGAACAAAGGAACCTTTAATAGAAATTGGACAGCAAGAAAGCGAGCTTAGTGATACTTGTGGGCCAGGGCATTAGCCACACCAGCCACCACTTTCTGATAGGCAGCCTGCACTGGTGGGGTGAATTCTTTGCCAAAGTGATGGGCCAGCACACAGACCAGCACGTTGCCCAGGAGCCTGAAGTTCTCAGGATCCACGTGCAGCTTGTCACAGTGCAGCTCACTCAGTGTGGCAAAGGTGCCCTTGAGGTTGTCCAGGTGAGCCAGGCCATCACTAAAGGCACCGAGCACTTTCTTGCCATGAGCCTTCACCTTAGGGTTGCCCATAACAGCATCAGGAGTGGACAGATCCCCAAAGGACTCAAAGAACCTCTGGGTCCAAGGGTAGACCACCAGCAGCCTGCCCAGGGCCTCACCACCAACTTCATCCACGTTCACCTTGCCCCACAGGGCAGTAACGGCAGACTTCTCCTCAGGAGTCAGATGCACCATGGTGTCTGTTTGAGGTTGCTAGTGAACACAGTTGTGTCAGAAGCAAATGT\n"
     ]
    }
   ],
   "source": [
    "rev_comp = reverse_complement(dna)\n",
    "print(rev_comp)"
   ]
  },
  {
   "cell_type": "code",
   "execution_count": 21,
   "metadata": {},
   "outputs": [
    {
     "name": "stdout",
     "output_type": "stream",
     "text": [
      "MVHLTPEEKSAVTALWGKVNVDEVGGEALGRLLVVYPWTQRFFESFGDLSTPDAVMGNPKVKAHGKKVLGAFSDGLAHLDNLKGTFATLSELHCDKLHVDPENFRLLGNVLVCVLAHHFGKEFTPPVQAAYQKVVAGVANALAHKYH*\n"
     ]
    }
   ],
   "source": [
    "protein = translate(dna[50:494]) # CDS\n",
    "print(protein)"
   ]
  },
  {
   "cell_type": "code",
   "execution_count": 25,
   "metadata": {},
   "outputs": [
    {
     "name": "stdout",
     "output_type": "stream",
     "text": [
      "MVHLTPEEKSAVTALWGKVNVDEVGGEALG_=_LLVVYPWTQ_=_FFESFGDLSTPDAVMGNPKVKAHGKKVLGAFSDGLAHLDNLKGTFATLSELHCDKLHVDPENF_=_LLGNVLVCVLAHHFGKEFTPPVQAAYQKVVAGVANALAHKYH_=_\n"
     ]
    }
   ],
   "source": [
    "# change stop symbol and codon table\n",
    "# (see https://www.ncbi.nlm.nih.gov/Taxonomy/Utils/wprintgc.cgi)\n",
    "\n",
    "protein_mito = translate(\n",
    "    sequence=dna[50:494], # CDS\n",
    "    stop_symbol='_=_',\n",
    "    table=2,\n",
    ")\n",
    "print(protein_mito)"
   ]
  },
  {
   "cell_type": "markdown",
   "metadata": {},
   "source": [
    "### More data from Biopython package"
   ]
  },
  {
   "cell_type": "code",
   "execution_count": 22,
   "metadata": {},
   "outputs": [
    {
     "name": "stdout",
     "output_type": "stream",
     "text": [
      "Table 1 Standard, SGC0\n",
      "\n",
      "  |  T      |  C      |  A      |  G      |\n",
      "--+---------+---------+---------+---------+--\n",
      "T | TTT F   | TCT S   | TAT Y   | TGT C   | T\n",
      "T | TTC F   | TCC S   | TAC Y   | TGC C   | C\n",
      "T | TTA L   | TCA S   | TAA Stop| TGA Stop| A\n",
      "T | TTG L(s)| TCG S   | TAG Stop| TGG W   | G\n",
      "--+---------+---------+---------+---------+--\n",
      "C | CTT L   | CCT P   | CAT H   | CGT R   | T\n",
      "C | CTC L   | CCC P   | CAC H   | CGC R   | C\n",
      "C | CTA L   | CCA P   | CAA Q   | CGA R   | A\n",
      "C | CTG L(s)| CCG P   | CAG Q   | CGG R   | G\n",
      "--+---------+---------+---------+---------+--\n",
      "A | ATT I   | ACT T   | AAT N   | AGT S   | T\n",
      "A | ATC I   | ACC T   | AAC N   | AGC S   | C\n",
      "A | ATA I   | ACA T   | AAA K   | AGA R   | A\n",
      "A | ATG M(s)| ACG T   | AAG K   | AGG R   | G\n",
      "--+---------+---------+---------+---------+--\n",
      "G | GTT V   | GCT A   | GAT D   | GGT G   | T\n",
      "G | GTC V   | GCC A   | GAC D   | GGC G   | C\n",
      "G | GTA V   | GCA A   | GAA E   | GGA G   | A\n",
      "G | GTG V   | GCG A   | GAG E   | GGG G   | G\n",
      "--+---------+---------+---------+---------+--\n"
     ]
    }
   ],
   "source": [
    "import Bio.Data.CodonTable\n",
    "print(Bio.Data.CodonTable.standard_dna_table)"
   ]
  },
  {
   "cell_type": "code",
   "execution_count": 29,
   "metadata": {},
   "outputs": [
    {
     "name": "stdout",
     "output_type": "stream",
     "text": [
      "{'A': 'Ala', 'C': 'Cys', 'D': 'Asp', 'E': 'Glu', 'F': 'Phe', 'G': 'Gly', 'H': 'His', 'I': 'Ile', 'K': 'Lys', 'L': 'Leu', 'M': 'Met', 'N': 'Asn', 'P': 'Pro', 'Q': 'Gln', 'R': 'Arg', 'S': 'Ser', 'T': 'Thr', 'V': 'Val', 'W': 'Trp', 'Y': 'Tyr'}\n"
     ]
    }
   ],
   "source": [
    "from Bio.Data.IUPACData import *\n",
    "print(protein_letters_1to3)"
   ]
  },
  {
   "cell_type": "code",
   "execution_count": 30,
   "metadata": {},
   "outputs": [
    {
     "data": {
      "text/plain": [
       "['__builtins__',\n",
       " '__cached__',\n",
       " '__doc__',\n",
       " '__file__',\n",
       " '__loader__',\n",
       " '__name__',\n",
       " '__package__',\n",
       " '__spec__',\n",
       " '_make_ambiguous_ranges',\n",
       " '_make_ranges',\n",
       " 'ambiguous_dna_complement',\n",
       " 'ambiguous_dna_letters',\n",
       " 'ambiguous_dna_values',\n",
       " 'ambiguous_dna_weight_ranges',\n",
       " 'ambiguous_rna_complement',\n",
       " 'ambiguous_rna_letters',\n",
       " 'ambiguous_rna_values',\n",
       " 'ambiguous_rna_weight_ranges',\n",
       " 'atom_weights',\n",
       " 'avg_ambiguous_dna_weights',\n",
       " 'avg_ambiguous_rna_weights',\n",
       " 'avg_extended_protein_weights',\n",
       " 'extended_dna_letters',\n",
       " 'extended_protein_letters',\n",
       " 'extended_protein_values',\n",
       " 'extended_protein_weight_ranges',\n",
       " 'monoisotopic_protein_weights',\n",
       " 'monoisotopic_unambiguous_dna_weights',\n",
       " 'monoisotopic_unambiguous_rna_weights',\n",
       " 'protein_letters',\n",
       " 'protein_letters_1to3',\n",
       " 'protein_letters_1to3_extended',\n",
       " 'protein_letters_3to1',\n",
       " 'protein_letters_3to1_extended',\n",
       " 'protein_weight_ranges',\n",
       " 'protein_weights',\n",
       " 'unambiguous_dna_letters',\n",
       " 'unambiguous_dna_weight_ranges',\n",
       " 'unambiguous_dna_weights',\n",
       " 'unambiguous_rna_letters',\n",
       " 'unambiguous_rna_weight_ranges',\n",
       " 'unambiguous_rna_weights']"
      ]
     },
     "execution_count": 30,
     "metadata": {},
     "output_type": "execute_result"
    }
   ],
   "source": [
    "dir(Bio.Data.IUPACData)"
   ]
  },
  {
   "cell_type": "markdown",
   "metadata": {},
   "source": [
    "### Exercice\n",
    "\n",
    "First, to determine the human HBB gene, you just have to check for a unique word in the fasta description line so you can choose its sequence.  \n",
    "You can then transcribe, reverse and reverse complement.  \n",
    "Then you can keep the sequence as the forward and reverse complement as the reverse.  \n",
    "Then to extract the ORFs or the open reading frame.  \n",
    "In order to translate the mRNA, the translation must start from the first nucleotide, then from the second, then from the third, and these are the first, second, and third frames. To get the other three frames, we use the reverse complement to translate the complement strand in the direction of 5 prime.  \n",
    "You can make a range of 0:3 to be 0, 1, and 2.  \n",
    "An empty list can be made to store the orfs.  \n",
    "This range can be entered in a 'for loop' since the elements in the range will determine the beginning of the translation in the forward and reverse.  \n",
    "Then cut the translated sequence based on the asterisk.  \n",
    "Then put them all in the empty list and print them out at the end.  \n",
    "\n",
    ">Write the codes that do transcription, reverse and reverse complement and save each of them separately in a file.  "
   ]
  },
  {
   "cell_type": "code",
   "execution_count": 54,
   "metadata": {},
   "outputs": [],
   "source": [
    "from Bio import SeqIO\n",
    "from Bio.SeqRecord import SeqRecord\n",
    "\n",
    "# parse the FASTA file\n",
    "record = SeqIO.parse(\n",
    "    handle = './resources/HBB.fasta',\n",
    "    format='fasta',\n",
    ")\n",
    "\n",
    "# look at each element and pick up the one for the gene of interest\n",
    "for element in record:\n",
    "    if 'Homo' in element.description:\n",
    "        dna = element\n",
    "        break\n",
    "\n",
    "# sequence manipulation\n",
    "dna = dna.seq\n",
    "rna = dna.transcribe()\n",
    "rev = dna[::-1]\n",
    "rvc = dna.reverse_complement() # reverse complement"
   ]
  },
  {
   "cell_type": "code",
   "execution_count": 55,
   "metadata": {},
   "outputs": [],
   "source": [
    "# writing all 3 sequences in a FASTA file\n",
    "file = './HBB_manipulation.fa'\n",
    "\n",
    "rna_record = SeqRecord(\n",
    "    seq=rna,\n",
    "    id=element.id, # keep the same id\n",
    "    name=element.name,\n",
    "    description=element.description + \"//TRANSCRIPT\",\n",
    ")\n",
    "\n",
    "rev_record = SeqRecord(\n",
    "    seq=rev,\n",
    "    id=element.id, # keep the same id\n",
    "    name=element.name,\n",
    "    description=element.description + \"//REVERSE\",\n",
    ")\n",
    "\n",
    "rvc_record = SeqRecord(\n",
    "    seq=rvc,\n",
    "    id=element.id, # keep the same id\n",
    "    name=element.name,\n",
    "    description=element.description + \"//REVERSE-COMPLEMENT\",\n",
    ")\n",
    "\n",
    "with open(file, 'a+') as handle:\n",
    "    SeqIO.write(\n",
    "        sequences=rna_record,\n",
    "        handle=handle,\n",
    "        format='fasta',\n",
    "    )\n",
    "\n",
    "    SeqIO.write(\n",
    "    sequences=rev_record,\n",
    "    handle=handle,\n",
    "    format='fasta',\n",
    "    )\n",
    "\n",
    "    SeqIO.write(\n",
    "    sequences=rvc_record,\n",
    "    handle=handle,\n",
    "    format='fasta',\n",
    "    )"
   ]
  },
  {
   "cell_type": "markdown",
   "metadata": {},
   "source": [
    "Can you write the code that translates for 6 frames of the human HBB gene only?"
   ]
  },
  {
   "cell_type": "code",
   "execution_count": 56,
   "metadata": {},
   "outputs": [
    {
     "name": "stdout",
     "output_type": "stream",
     "text": [
      "['TFASDTTVFTSNLKQTPWCI', 'LLRRSLPLLPCGAR', 'TWMKLVVRPWAGCWWSTLGPRGSLSPLGICPLLMLLWATLR', 'RLMARKCSVPLVMAWLTWTTSRAPLPH', 'VSCTVTSCTWILRTSGSWATCWSVCWPITLAKNSPHQCRLPIRKWWLVWLMPWPTSITKLAFLLSNFY', 'RFLCSLSPTTKLGDIMKGLEHLDSA', 'KTFIFIA', 'LQ', 'K', 'MFFIRQNPDAQGPS', 'YPPV', 'LDLGNKGTFNRNWTARKRA', 'YLWARALATPATTF', 'AACTGGVNSLPK', 'WASTQTSTLPRSLKFSGSTCSLSQCSSLSVAKVPLRLSR', 'ARPSLKAPSTFLP', 'AFTLGLPITASGVDRSPKDSKNLWVQG', 'TTSSLPRASPPTSSTFTLPHRAVTADFSSGVRCTMVSV', 'GC', 'TQLCQKQM', 'HLLLTQLCSLATSNRHHGASDS', 'GEVCRYCPVGQGERG', 'SWW', 'GPGQAAGGLPLDPEVL', 'VLWGSVHS', 'CCYGQP', 'GEGSWQESARCL', 'WPGSPGQPQGHLCHTE', 'AAL', 'QAARGS', 'ELQAPGQRAGLCAGPSLWQRIHPTSAGCLSESGGWCG', 'CPGPQVSLSSLSCCPISIKGSFVP', 'VQLLNWGIL', 'RALSIWILPNKKHLFSLQ', 'CNENKCFLLGRIQMLKALHNIPQFSSWT', 'GTKEPLIEIGQQESELSDTCGPGH', 'PHQPPLSDRQPALVG', 'ILCQSDGPAHRPARCPGA', 'SSQDPRAACHSAAHSVWQRCP', 'GCPGEPGHH', 'RHRALSCHEPSP', 'GCP', 'QHQEWTDPQRTQRTSGSKGRPPAACPGPHHQLHPRSPCPTGQ', 'RQTSPQESDAPWCLFEVASEHSCVRSKC', 'ICF', 'HNCVH', 'QPQTDTMVHLTPEEKSAVTALWGKVNVDEVGGEALGRLLVVYPWTQRFFESFGDLSTPDAVMGNPKVKAHGKKVLGAFSDGLAHLDNLKGTFATLSELHCDKLHVDPENFRLLGNVLVCVLAHHFGKEFTPPVQAAYQKVVAGVANALAHKYH', 'ARFLAVQFLLKVPLFPKSNY', 'TGGYYEGP', 'ASGFCLIKNIYFHC', 'AMKINVFY', 'AESRCSRPFIISPSLVVGLREQRNL', 'KLDSKKASLVILVGQGISHTSHHFLIGSLHWWGEFFAKVMGQHTDQHVAQEPEVLRIHVQLVTVQLTQCGKGALEVVQVSQAITKGTEHFLAMSLHLRVAHNSIRSGQIPKGLKEPLGPRVDHQQPAQGLTTNFIHVHLAPQGSNGRLLLRSQMHHGVCLRLLVNTVVSEAN']\n",
      "53\n"
     ]
    },
    {
     "name": "stderr",
     "output_type": "stream",
     "text": [
      "C:\\Users\\Sébastien\\AppData\\Local\\Programs\\Python\\Python39\\lib\\site-packages\\Bio\\Seq.py:2979: BiopythonWarning: Partial codon, len(sequence) not a multiple of three. Explicitly trim the sequence or add trailing N before translation. This may become an error in future.\n",
      "  warnings.warn(\n"
     ]
    }
   ],
   "source": [
    "orfs = []\n",
    "\n",
    "for start in range(3):\n",
    "    for orf in dna[start:].translate().split('*'):\n",
    "        orfs.append(str(orf)) if orf != '' else None # otherwise append Seq Objects\n",
    "    for orf in rvc[start:].translate().split('*'):\n",
    "        orfs.append(str(orf)) if orf != '' else None\n",
    "\n",
    "print(orfs)\n",
    "print(len(orfs))"
   ]
  },
  {
   "cell_type": "markdown",
   "metadata": {},
   "source": [
    "#### Solution to the exercice"
   ]
  },
  {
   "cell_type": "code",
   "execution_count": 57,
   "metadata": {},
   "outputs": [
    {
     "name": "stdout",
     "output_type": "stream",
     "text": [
      "ACAUUUGCUUCUGACACAACUGUGUUCACUAGCAACCUCAAACAGACACCAUGGUGCAUCUGACUCCUGAGGAGAAGUCUGCCGUUACUGCCCUGUGGGGCAAGGUGAACGUGGAUGAAGUUGGUGGUGAGGCCCUGGGCAGGCUGCUGGUGGUCUACCCUUGGACCCAGAGGUUCUUUGAGUCCUUUGGGGAUCUGUCCACUCCUGAUGCUGUUAUGGGCAACCCUAAGGUGAAGGCUCAUGGCAAGAAAGUGCUCGGUGCCUUUAGUGAUGGCCUGGCUCACCUGGACAACCUCAAGGGCACCUUUGCCACACUGAGUGAGCUGCACUGUGACAAGCUGCACGUGGAUCCUGAGAACUUCAGGCUCCUGGGCAACGUGCUGGUCUGUGUGCUGGCCCAUCACUUUGGCAAAGAAUUCACCCCACCAGUGCAGGCUGCCUAUCAGAAAGUGGUGGCUGGUGUGGCUAAUGCCCUGGCCCACAAGUAUCACUAAGCUCGCUUUCUUGCUGUCCAAUUUCUAUUAAAGGUUCCUUUGUUCCCUAAGUCCAACUACUAAACUGGGGGAUAUUAUGAAGGGCCUUGAGCAUCUGGAUUCUGCCUAAUAAAAAACAUUUAUUUUCAUUGCAA\n",
      "AACGTTACTTTTATTTACAAAAAATAATCCGTCTTAGGTCTACGAGTTCCGGGAAGTATTATAGGGGGTCAAATCATCAACCTGAATCCCTTGTTTCCTTGGAAATTATCTTTAACCTGTCGTTCTTTCGCTCGAATCACTATGAACACCCGGTCCCGTAATCGGTGTGGTCGGTGGTGAAAGACTATCCGTCGGACGTGACCACCCCACTTAAGAAACGGTTTCACTACCCGGTCGTGTGTCTGGTCGTGCAACGGGTCCTCGGACTTCAAGAGTCCTAGGTGCACGTCGAACAGTGTCACGTCGAGTGAGTCACACCGTTTCCACGGGAACTCCAACAGGTCCACTCGGTCCGGTAGTGATTTCCGTGGCTCGTGAAAGAACGGTACTCGGAAGTGGAATCCCAACGGGTATTGTCGTAGTCCTCACCTGTCTAGGGGTTTCCTGAGTTTCTTGGAGACCCAGGTTCCCATCTGGTGGTCGTCGGACGGGTCCCGGAGTGGTGGTTGAAGTAGGTGCAAGTGGAACGGGGTGTCCCGTCATTGCCGTCTGAAGAGGAGTCCTCAGTCTACGTGGTACCACAGACAAACTCCAACGATCACTTGTGTCAACACAGTCTTCGTTTACA\n",
      "TTGCAATGAAAATAAATGTTTTTTATTAGGCAGAATCCAGATGCTCAAGGCCCTTCATAATATCCCCCAGTTTAGTAGTTGGACTTAGGGAACAAAGGAACCTTTAATAGAAATTGGACAGCAAGAAAGCGAGCTTAGTGATACTTGTGGGCCAGGGCATTAGCCACACCAGCCACCACTTTCTGATAGGCAGCCTGCACTGGTGGGGTGAATTCTTTGCCAAAGTGATGGGCCAGCACACAGACCAGCACGTTGCCCAGGAGCCTGAAGTTCTCAGGATCCACGTGCAGCTTGTCACAGTGCAGCTCACTCAGTGTGGCAAAGGTGCCCTTGAGGTTGTCCAGGTGAGCCAGGCCATCACTAAAGGCACCGAGCACTTTCTTGCCATGAGCCTTCACCTTAGGGTTGCCCATAACAGCATCAGGAGTGGACAGATCCCCAAAGGACTCAAAGAACCTCTGGGTCCAAGGGTAGACCACCAGCAGCCTGCCCAGGGCCTCACCACCAACTTCATCCACGTTCACCTTGCCCCACAGGGCAGTAACGGCAGACTTCTCCTCAGGAGTCAGATGCACCATGGTGTCTGTTTGAGGTTGCTAGTGAACACAGTTGTGTCAGAAGCAAATGT\n",
      "1\tTFASDTTVFTSNLKQTPWCI\n",
      "2\tLLRRSLPLLPCGAR\n",
      "3\tTWMKLVVRPWAGCWWSTLGPRGSLSPLGICPLLMLLWATLR\n",
      "4\tRLMARKCSVPLVMAWLTWTTSRAPLPH\n",
      "5\tVSCTVTSCTWILRTSGSWATCWSVCWPITLAKNSPHQCRLPIRKWWLVWLMPWPTSITKLAFLLSNFY\n",
      "6\tRFLCSLSPTTKLGDIMKGLEHLDSA\n",
      "7\tKTFIFIA\n",
      "8\tLQ\n",
      "9\tK\n",
      "10\tMFFIRQNPDAQGPS\n",
      "11\tYPPV\n",
      "12\tLDLGNKGTFNRNWTARKRA\n",
      "13\tYLWARALATPATTF\n",
      "14\tAACTGGVNSLPK\n",
      "15\tWASTQTSTLPRSLKFSGSTCSLSQCSSLSVAKVPLRLSR\n",
      "16\tARPSLKAPSTFLP\n",
      "17\tAFTLGLPITASGVDRSPKDSKNLWVQG\n",
      "18\tTTSSLPRASPPTSSTFTLPHRAVTADFSSGVRCTMVSV\n",
      "19\tGC\n",
      "20\tTQLCQKQM\n",
      "21\tHLLLTQLCSLATSNRHHGASDS\n",
      "22\tGEVCRYCPVGQGERG\n",
      "23\tSWW\n",
      "24\tGPGQAAGGLPLDPEVL\n",
      "25\tVLWGSVHS\n",
      "26\tCCYGQP\n",
      "27\tGEGSWQESARCL\n",
      "28\tWPGSPGQPQGHLCHTE\n",
      "29\tAAL\n",
      "30\tQAARGS\n",
      "31\tELQAPGQRAGLCAGPSLWQRIHPTSAGCLSESGGWCG\n",
      "32\tCPGPQVSLSSLSCCPISIKGSFVP\n",
      "33\tVQLLNWGIL\n",
      "34\tRALSIWILPNKKHLFSLQ\n",
      "35\tCNENKCFLLGRIQMLKALHNIPQFSSWT\n",
      "36\tGTKEPLIEIGQQESELSDTCGPGH\n",
      "37\tPHQPPLSDRQPALVG\n",
      "38\tILCQSDGPAHRPARCPGA\n",
      "39\tSSQDPRAACHSAAHSVWQRCP\n",
      "40\tGCPGEPGHH\n",
      "41\tRHRALSCHEPSP\n",
      "42\tGCP\n",
      "43\tQHQEWTDPQRTQRTSGSKGRPPAACPGPHHQLHPRSPCPTGQ\n",
      "44\tRQTSPQESDAPWCLFEVASEHSCVRSKC\n",
      "45\tICF\n",
      "46\tHNCVH\n",
      "47\tQPQTDTMVHLTPEEKSAVTALWGKVNVDEVGGEALGRLLVVYPWTQRFFESFGDLSTPDAVMGNPKVKAHGKKVLGAFSDGLAHLDNLKGTFATLSELHCDKLHVDPENFRLLGNVLVCVLAHHFGKEFTPPVQAAYQKVVAGVANALAHKYH\n",
      "48\tARFLAVQFLLKVPLFPKSNY\n",
      "49\tTGGYYEGP\n",
      "50\tASGFCLIKNIYFHC\n",
      "51\tAMKINVFY\n",
      "52\tAESRCSRPFIISPSLVVGLREQRNL\n",
      "53\tKLDSKKASLVILVGQGISHTSHHFLIGSLHWWGEFFAKVMGQHTDQHVAQEPEVLRIHVQLVTVQLTQCGKGALEVVQVSQAITKGTEHFLAMSLHLRVAHNSIRSGQIPKGLKEPLGPRVDHQQPAQGLTTNFIHVHLAPQGSNGRLLLRSQMHHGVCLRLLVNTVVSEAN\n"
     ]
    }
   ],
   "source": [
    "from Bio import SeqIO\n",
    "from Bio.Seq import *\n",
    "\n",
    "# sequence manipulations\n",
    "r = SeqIO.parse(\"./resources/HBB.fasta\", 'fasta')\n",
    "\n",
    "forward = ''\n",
    "reverse = ''\n",
    "\n",
    "for i in r:\n",
    "    if 'Homo' in i.description:\n",
    "        print(transcribe(i.seq), i.seq[::-1], reverse_complement(i.seq), sep=\"\\n\")\n",
    "        forward = i.seq\n",
    "        reverse = reverse_complement(i.seq)\n",
    "\n",
    "# translation to 6 frames\n",
    "count = range(0, 3)\n",
    "\n",
    "orfs = []\n",
    "\n",
    "for j in count:\n",
    "    transF = translate(forward[j:])\n",
    "    transR = translate(reverse[j:])\n",
    "    spF = str(transF).split('*')\n",
    "    spR = str(transR).split('*')\n",
    "    orfs += spF\n",
    "    orfs += spR\n",
    "reSpa = filter(None, orfs)\n",
    "for ind, k in enumerate(reSpa):\n",
    "    print(ind+1, k, sep=\"\\t\")"
   ]
  },
  {
   "cell_type": "markdown",
   "metadata": {},
   "source": [
    "### Interlude - the BioNTech mRNA vaccine sequence"
   ]
  },
  {
   "cell_type": "code",
   "execution_count": 58,
   "metadata": {},
   "outputs": [
    {
     "name": "stdout",
     "output_type": "stream",
     "text": [
      "ID: Figure1_032321_Spike-encoding_contig_assembled_from_BioNTech/Pfizer_BNT-162b2_vaccine\n",
      "Name: Figure1_032321_Spike-encoding_contig_assembled_from_BioNTech/Pfizer_BNT-162b2_vaccine\n",
      "Description: Figure1_032321_Spike-encoding_contig_assembled_from_BioNTech/Pfizer_BNT-162b2_vaccine\n",
      "Number of features: 0\n",
      "Seq('GAGAATAAACTAGTATTCTTCTGGTCCCCACAGACTCAGAGAGAACCCGCCACC...GCA')\n"
     ]
    }
   ],
   "source": [
    "record = SeqIO.parse(\n",
    "    handle = 'COVID19_mRNA_vaccines.fasta',\n",
    "    format='fasta',\n",
    ")\n",
    "\n",
    "for element in record:\n",
    "    if 'BioNTech' in element.description:\n",
    "        BNT162b2 = element\n",
    "        break\n",
    "\n",
    "print(BNT162b2)"
   ]
  },
  {
   "cell_type": "code",
   "execution_count": 41,
   "metadata": {},
   "outputs": [
    {
     "name": "stdout",
     "output_type": "stream",
     "text": [
      "ENKLVFFWSPQTQREPATMFVFLVLLPLVSSQCVNLTTRTQLPPAYTNSFTRGVYYPDKVFRSSVLHSTQDLFLPFFSNVTWFHAIHVSGTNGTKRFDNPVLPFNDGVYFASTEKSNIIRGWIFGTTLDSKTQSLLIVNNATNVVIKVCEFQFCNDPFLGVYYHKNNKSWMESEFRVYSSANNCTFEYVSQPFLMDLEGKQGNFKNLREFVFKNIDGYFKIYSKHTPINLVRDLPQGFSALEPLVDLPIGINITRFQTLLALHRSYLTPGDSSSGWTAGAAAYYVGYLQPRTFLLKYNENGTITDAVDCALDPLSETKCTLKSFTVEKGIYQTSNFRVQPTESIVRFPNITNLCPFGEVFNATRFASVYAWNRKRISNCVADYSVLYNSASFSTFKCYGVSPTKLNDLCFTNVYADSFVIRGDEVRQIAPGQTGKIADYNYKLPDDFTGCVIAWNSNNLDSKVGGNYNYLYRLFRKSNLKPFERDISTEIYQAGSTPCNGVEGFNCYFPLQSYGFQPTNGVGYQPYRVVVLSFELLHAPATVCGPKKSTNLVKNKCVNFNFNGLTGTGVLTESNKKFLPFQQFGRDIADTTDAVRDPQTLEILDITPCSFGGVSVITPGTNTSNQVAVLYQDVNCTEVPVAIHADQLTPTWRVYSTGSNVFQTRAGCLIGAEHVNNSYECDIPIGAGICASYQTQTNSPRRARSVASQSIIAYTMSLGAENSVAYSNNSIAIPTNFTISVTTEILPVSMTKTSVDCTMYICGDSTECSNLLLQYGSFCTQLNRALTGIAVEQDKNTQEVFAQVKQIYKTPPIKDFGGFNFSQILPDPSKPSKRSFIEDLLFNKVTLADAGFIKQYGDCLGDIAARDLICAQKFNGLTVLPPLLTDEMIAQYTSALLAGTITSGWTFGAGAALQIPFAMQMAYRFNGIGVTQNVLYENQKLIANQFNSAIGKIQDSLSSTASALGKLQDVVNQNAQALNTLVKQLSSNFGAISSVLNDILSRLDPPEAEVQIDRLITGRLQSLQTYVTQQLIRAAEIRASANLAATKMSECVLGQSKRVDFCGKGYHLMSFPQSAPHGVVFLHVTYVPAQEKNFTTAPAICHDGKAHFPREGVFVSNGTHWFVTQRNFYEPQIITTDNTFVSGNCDVVIGIVNNTVYDPLQPELDSFKEELDKYFKNHTSPDVDLGDISGINASVVNIQKEIDRLNEVAKNLNESLIDLQELGKYEQYIKWPWYIWLGFIAGLIAIVMVTIMLCCMTSCCSCLKGCCSCGSCCKFDEDDSEPVLKGVKLHYT**LELVLHARNASCPFPVLGTPSLPRPRVPGMLPPPPAPLTTSASSRHLPSTQQCSSKRLA*PHPHGKQQ*LTFSNKRKFN*AILTPGLVNFVPATPWS* RIN*YSSGPHRLRENPPPCSCSWCCCLWCPASV*T*PPEHSCLQPTPTALPEACTTPTRCSDPACCTLPRTCSCLSSAT*PGSTPSTCPAPMAPRDSTTPCCPSTTGCTLPAPRSPTSSEAGSSAPHWTARPRAC*S*TTPPTWSSKCASSSSATTPSWASTTTRTTRAGWKASSGCTAAPTTAPSSTCPSLS*WTWKASRATSRTCASSCLRTSTATSRSTASTPLSTSCGICLRASLLWNPWWICPSASTSPGFRHCWPCTEAT*HLAIAAADGQLVPPLTMWATCSLEPSC*STTRTAPSPTPWIVLWIL*ARQSAP*SPSPWKRASTRPATSGCSPPNPSCGSPISPICAPSARCSMPPDSPLCTPGTGSGSAIAWPTTPCCTTPPASAPSSATACPLPS*TTCASQTCTPTAS*SGEMKCGRLPLDRQARSPTTTTSCPTTSPAV*LPGTATTWTPKSAATTITCTGCSGSPI*SPSSGTSPPRSIRPAAPLVTAWKASTATSHCSPTAFSPQMAWAISPTEWWC*ASNCCMPLPQCAALRKAPIS*RTNA*TSTSTA*PAPAC*QRATRSSCHSSSLAGISPIPQTPLEIPRHWKSWTSPLAASAECL*SPLAPTPAIRWQCCTRT*TVPKCPWPFTPIS*HLHGGCTPPAAMCFRPEPAV*SEPST*TIATSATSPSALESAPATRHRQTALGEPEAWPARASLPTQCLWAPRTAWPTPTTLSLSPPTSPSA*PQRSCLCP*PRPAWTAPCTSAAIPPSAPTCCCSTAASAPS*IEP*QGSPWNRTRTPKRCSPK*SRSTRPLLSRTSAASISARFCPILASPASGASSRTCCSTK*HWPTPASSSSMAIVWATLPPGI*FAPRSLTD*QCCLLC*PMR*SPSTHLPCWPAQSQAAGHLEQAPLCRSPLLCRWPTGSTASE*PRMCCTRTRS*SPTSSTAPSARSRTA*AAQQAPWESCRTWSTRMPRH*TPWSSSCPPTSAPSALC*TIS*ADWTLLRPRCRSTD*SQADCRASRHT*PSS*SEPPRLEPLPIWPPPRCLSVCWARAREWTFAARATT**ASLSLPLTAWCFCT*HMCPLKRRISPPLQPSATTAKPTFLEKACSCPTAPIGS*HSGTSTSPRSSPPTTPSCLATATS*SAL*TIPCTTLCSPSWTASKRNWTSTLRTTQAPTWTWAISAESMPAS*TSRKRSTG*TRWPRI*TRA*STCKNWGSTSSTSSGPGTSGWALSPD*LPS*WSQSCCVA*PAAVAA*RAVVAVAAAASSTRTILSPC*RA*NCTTHDDSSWYCMHAMLAAPFPSWVPRVSPDLGSQVCSHLHLPHSPPLLVPDTSQARSNAAQNA*PSHTPTGNSSD*PLAINESLTKLY*PQGWSISCQPHPGAS E*TSILLVPTDSERTRHHVRVPGAAASGVQPVCEPDHQNTAASSLHQQLYQRRVLPRQGVQIQRAALYPGPVPAFLQQRDLVPRHPRVRHQWHQEIRQPRAALQRRGVLCQHREVQHHQRLDLRHHTGQQDPEPADREQRHQRGHQSVRVPVLQRPLPGRLLPQEQQELDGKRVPGVQQRQQLHLRVRVPAFPDGPGRQAGQLQEPARVRV*EHRRLLQDLQQAHPYQPRAGSASGLLCSGTPGGSAHRHQHHPVSDTAGPAQKLPDTWR*QQRMDSWCRRLLCGLPAA*NLPAEVQRERHHHRRRGLCSGSSERDKVHPEVLHRGKGHLPDQQLPGAAHRIHRAVPQYHQSVPLRRGVQCHQIRLCVRLEPEADQQLRGRLLRAVQLRQLQHLQVLRRVPYQAERPVLHKRVRRQLRDPGR*SAADCPWTDRQDRRLQLQAARRLHRLCDCLEQQQPGLQSRRQLQLPVPAVPEVQSEALRAGHLHRDLSGRQHPL*RRGRLQLLLPTAVLRLSAHKWRGLSALQSGGAELRTAACPCHSVRP*EKHQSREEQMRELQLQRPDRHRRADREQQEVPAIPAVWPGYRRYHRRR*RSPDTGNPGHHPLQLRRSVCDHPWHQHQQSGGSAVPGRELYRSARGHSRRSADTYMAGVLHRQQCVSDQSRLSDRSRAREQ*LRVRHPHRRWNLRQLPDTDKQPSESQKRGQPEHHCLHNVSGRREQRGLLQQLYRYPHQLHHQRDHRDPACVHDQDQRGLHHVHLRRFHRVLQPAAAVRQLLHPAE*SPDRDRRGTGQEHPRGVRPSEADLQDPSYQGLRRLQFQPDSARS*QAQQAELHRGPAVQQSDTGRRRLHQAVWRLSGRHCRQGSDLRPEV*RTDSAASSADR*DDRPVHICPAGRHNHKRLDIWSRRRSADPLCYADGLPVQRHRSDPECAVREPEADRQPVQQRHRQDPGQPEQHSKRPGKAAGRGQPECPGTEHPGQAAVLQLRRHQLCAERYPEQTGPS*GRGADRQTDHRQTAEPPDIRDPAADQSRRD*SLCQSGRHQDV*VCAGPEQESGLLRQGLPPDELPSVCPSRRGVSARDICARSREEFHHRSSHLPRRQSPLS*RRRVRVQRHPLVRDTAELLRAPDHHHRQHLRVWQLRRRDRHCEQYRVRPSAARAGQLQRGTGQVL*EPHKPRRGPGRYQRNQCQRREHPERDRPAERGGQESEREPDRPARTGEVRAVHQVALVHLAGLYRRTDCHRDGHNHAVLHDQLL*LPEGLL*LWQLLQVRRGRF*ARAEGRETALHMMTRAGTACTQC*LPLSRPGYPESPPTSGPRYAPTSTCPTHHLC*FQTPPKHAAMQLKTLSLATPPRETAVINL*Q*TKV*LSYTNPRVGQFRASHTLELA\n"
     ]
    },
    {
     "name": "stderr",
     "output_type": "stream",
     "text": [
      "C:\\Users\\Sébastien\\AppData\\Local\\Programs\\Python\\Python39\\lib\\site-packages\\Bio\\Seq.py:2979: BiopythonWarning: Partial codon, len(sequence) not a multiple of three. Explicitly trim the sequence or add trailing N before translation. This may become an error in future.\n",
      "  warnings.warn(\n"
     ]
    }
   ],
   "source": [
    "protein1 = BNT162b2.seq.translate()\n",
    "protein2 = BNT162b2.seq[1:].translate()\n",
    "protein3 = BNT162b2.seq[2:].translate()\n",
    "\n",
    "print(protein1, protein2, protein3)"
   ]
  },
  {
   "cell_type": "code",
   "execution_count": 54,
   "metadata": {},
   "outputs": [
    {
     "name": "stdout",
     "output_type": "stream",
     "text": [
      "Analysis of the ORFs in sequence BNT162b2\n",
      "--------------------\n",
      "MFVFLVLLPL...HYT - length: 1273, frame 0\n",
      "MLPPPPAPLT...RLA - length: 30, frame 0\n",
      "MAPRDSTTPC...RAC - length: 44, frame 1\n",
      "MWATCSLEPS...PSC - length: 11, frame 1\n",
      "MPPDSPLCTP...LPS - length: 44, frame 1\n",
      "MKCGRLPLDR...PAV - length: 28, frame 1\n",
      "MAWAISPTEW...WWC - length: 12, frame 1\n",
      "MPLPQCAALR...PIS - length: 15, frame 1\n",
      "MAIVWATLPP...PGI - length: 12, frame 1\n",
      "MCPLKRRISP...IGS - length: 37, frame 1\n",
      "MHAMLAAPFP...QNA - length: 52, frame 1\n",
      "MDSWCRRLLC...PAA - length: 15, frame 2\n",
      "MRELQLQRPD...RRR - length: 39, frame 2\n",
      "MAGVLHRQQC...REQ - length: 26, frame 2\n",
      "MMTRAGTACT...TQC - length: 12, frame 2\n",
      "MQLKTLSLAT...INL - length: 20, frame 2\n",
      "Number of ORFs with >= 10 residues =  16\n"
     ]
    }
   ],
   "source": [
    "length_min = 10 # minimum number of residues\n",
    "x=0\n",
    "\n",
    "print(\"Analysis of the ORFs in sequence BNT162b2\")\n",
    "print('-'*20)\n",
    "\n",
    "for frame in range(3):\n",
    "    length = 3 * ((len(BNT162b2)-frame) // 3) #Multiple of three\n",
    "    for pro in BNT162b2.seq[frame:frame+length].translate().split(\"*\"):\n",
    "        splitlocal = pro.find('M')\n",
    "        seq_final = pro[splitlocal:]\n",
    "        if len(seq_final) >= length_min:\n",
    "            print(f\"{seq_final[:10]}...{pro[-3:]} - length: {len(seq_final)}, frame {frame}\")\n",
    "            x+=1\n",
    "print(f\"Number of ORFs with >= {length_min} residues = \",x)"
   ]
  },
  {
   "cell_type": "code",
   "execution_count": null,
   "metadata": {},
   "outputs": [],
   "source": []
  }
 ],
 "metadata": {
  "interpreter": {
   "hash": "b51595f36012c8da2bf2284ebbd8d377d5c2d31fa7484164f2d2bcda7a09b462"
  },
  "kernelspec": {
   "display_name": "Python 3.9.7 64-bit (system)",
   "name": "python3"
  },
  "language_info": {
   "codemirror_mode": {
    "name": "ipython",
    "version": 3
   },
   "file_extension": ".py",
   "mimetype": "text/x-python",
   "name": "python",
   "nbconvert_exporter": "python",
   "pygments_lexer": "ipython3",
   "version": "3.9.7"
  },
  "orig_nbformat": 4
 },
 "nbformat": 4,
 "nbformat_minor": 2
}
