{
 "cells": [
  {
   "cell_type": "markdown",
   "metadata": {},
   "source": [
    "# Basic sequence analysis\n",
    "\n",
    "## Analyzing DNA, RNA and protein sequences"
   ]
  },
  {
   "cell_type": "code",
   "execution_count": 1,
   "metadata": {},
   "outputs": [],
   "source": [
    "from Bio import SeqIO\n",
    "from Bio.SeqUtils import *"
   ]
  },
  {
   "cell_type": "markdown",
   "metadata": {},
   "source": [
    "### Transcription, reverse-complement and translation"
   ]
  },
  {
   "cell_type": "code",
   "execution_count": 2,
   "metadata": {},
   "outputs": [
    {
     "name": "stdout",
     "output_type": "stream",
     "text": [
      "ACATTTGCTTCTGACACAACTGTGTTCACTAGCAACCTCAAACAGACACCATGGTGCATCTGACTCCTGAGGAGAAGTCTGCCGTTACTGCCCTGTGGGGCAAGGTGAACGTGGATGAAGTTGGTGGTGAGGCCCTGGGCAGGCTGCTGGTGGTCTACCCTTGGACCCAGAGGTTCTTTGAGTCCTTTGGGGATCTGTCCACTCCTGATGCTGTTATGGGCAACCCTAAGGTGAAGGCTCATGGCAAGAAAGTGCTCGGTGCCTTTAGTGATGGCCTGGCTCACCTGGACAACCTCAAGGGCACCTTTGCCACACTGAGTGAGCTGCACTGTGACAAGCTGCACGTGGATCCTGAGAACTTCAGGCTCCTGGGCAACGTGCTGGTCTGTGTGCTGGCCCATCACTTTGGCAAAGAATTCACCCCACCAGTGCAGGCTGCCTATCAGAAAGTGGTGGCTGGTGTGGCTAATGCCCTGGCCCACAAGTATCACTAAGCTCGCTTTCTTGCTGTCCAATTTCTATTAAAGGTTCCTTTGTTCCCTAAGTCCAACTACTAAACTGGGGGATATTATGAAGGGCCTTGAGCATCTGGATTCTGCCTAATAAAAAACATTTATTTTCATTGCAA\n"
     ]
    }
   ],
   "source": [
    "record = SeqIO.parse(\n",
    "    handle = './resources/HBB-human.fasta',\n",
    "    format='fasta',\n",
    ")\n",
    "\n",
    "# look at each element and pick up the one for the gene of interest\n",
    "for element in record:\n",
    "    if 'Homo' in element.description:\n",
    "        dna = element\n",
    "        break\n",
    "\n",
    "print(str(element.seq))\n",
    "\n",
    "# sequence manipulation\n",
    "dna = str(dna.seq)\n",
    "rna = str(element.seq.transcribe())\n",
    "pro = str(element.seq[50:494].translate())"
   ]
  },
  {
   "cell_type": "markdown",
   "metadata": {},
   "source": [
    "### GC content"
   ]
  },
  {
   "cell_type": "code",
   "execution_count": 3,
   "metadata": {},
   "outputs": [
    {
     "name": "stdout",
     "output_type": "stream",
     "text": [
      "51.27388535031847\n"
     ]
    }
   ],
   "source": [
    "# GC content\n",
    "print(GC(dna))"
   ]
  },
  {
   "cell_type": "markdown",
   "metadata": {},
   "source": [
    "### Search for motifs"
   ]
  },
  {
   "cell_type": "code",
   "execution_count": 4,
   "metadata": {},
   "outputs": [
    {
     "name": "stdout",
     "output_type": "stream",
     "text": [
      "['ATG', 50, 114, 207, 215, 240, 270, 468, 570]\n"
     ]
    }
   ],
   "source": [
    "# searching for all sequence of nucleotides\n",
    "print(nt_search(dna, 'ATG'))"
   ]
  },
  {
   "cell_type": "markdown",
   "metadata": {},
   "source": [
    "### Molecular weight"
   ]
  },
  {
   "cell_type": "code",
   "execution_count": 5,
   "metadata": {},
   "outputs": [
    {
     "name": "stdout",
     "output_type": "stream",
     "text": [
      "194074.49929999988\n",
      "201779.6802999993\n"
     ]
    }
   ],
   "source": [
    "# molecular weight\n",
    "print(molecular_weight(dna, 'DNA'))\n",
    "print(molecular_weight(rna, 'RNA'))"
   ]
  },
  {
   "cell_type": "code",
   "execution_count": 6,
   "metadata": {},
   "outputs": [
    {
     "name": "stdout",
     "output_type": "stream",
     "text": [
      "15998.206399999986\n"
     ]
    }
   ],
   "source": [
    "# print(molecular_weight(pro, 'protein')) # raises error because of presence of STOP codon\n",
    "pro = str(element.seq[50:494].translate(stop_symbol=''))\n",
    "print(molecular_weight(pro, 'protein'))"
   ]
  },
  {
   "cell_type": "markdown",
   "metadata": {},
   "source": [
    "### Six-frame translation"
   ]
  },
  {
   "cell_type": "code",
   "execution_count": 7,
   "metadata": {},
   "outputs": [
    {
     "name": "stdout",
     "output_type": "stream",
     "text": [
      "GC_Frame: a:139 t:167 g:165 c:157 \n",
      "Sequence: acatttgctt ... ttcattgcaa, 628 nt, 51.27 %GC\n",
      "\n",
      "\n",
      "1/1\n",
      "  I  C  F  *  H  N  C  V  H  *  Q  P  Q  T  D  T  M  V  H  L\n",
      " H  L  L  L  T  Q  L  C  S  L  A  T  S  N  R  H  H  G  A  S\n",
      "T  F  A  S  D  T  T  V  F  T  S  N  L  K  Q  T  P  W  C  I\n",
      "acatttgcttctgacacaactgtgttcactagcaacctcaaacagacaccatggtgcatc   45 %\n",
      "tgtaaacgaagactgtgttgacacaagtgatcgttggagtttgtctgtggtaccacgtag\n",
      "C  K  S  R  V  C  S  H  E  S  A  V  E  F  L  C  W  P  A  D \n",
      " M  Q  K  Q  C  L  Q  T  *  *  C  G  *  V  S  V  M  T  C  R\n",
      "  N  A  E  S  V  V  T  N  V  L  L  R  L  C  V  G  H  H  M  Q\n",
      "\n",
      "61/21\n",
      "  T  P  E  E  K  S  A  V  T  A  L  W  G  K  V  N  V  D  E  V\n",
      " D  S  *  G  E  V  C  R  Y  C  P  V  G  Q  G  E  R  G  *  S\n",
      "*  L  L  R  R  S  L  P  L  L  P  C  G  A  R  *  T  W  M  K\n",
      "tgactcctgaggagaagtctgccgttactgccctgtggggcaaggtgaacgtggatgaag   56 %\n",
      "actgaggactcctcttcagacggcaatgacgggacaccccgttccacttgcacctacttc\n",
      "S  E  Q  P  S  T  Q  R  *  Q  G  T  P  C  P  S  R  P  H  L \n",
      " V  G  S  S  F  D  A  T  V  A  R  H  P  L  T  F  T  S  S  T\n",
      "  S  R  L  L  L  R  G  N  S  G  Q  P  A  L  H  V  H  I  F  N\n",
      "\n",
      "121/41\n",
      "  G  G  E  A  L  G  R  L  L  V  V  Y  P  W  T  Q  R  F  F  E\n",
      " W  W  *  G  P  G  Q  A  A  G  G  L  P  L  D  P  E  V  L  *\n",
      "L  V  V  R  P  W  A  G  C  W  W  S  T  L  G  P  R  G  S  L\n",
      "ttggtggtgaggccctgggcaggctgctggtggtctacccttggacccagaggttctttg   61 %\n",
      "aaccaccactccgggacccgtccgacgaccaccagatgggaacctgggtctccaagaaac\n",
      "Q  H  H  P  G  P  C  A  A  P  P  R  G  K  S  G  S  T  R  Q \n",
      " P  P  S  A  R  P  L  S  S  T  T  *  G  Q  V  W  L  N  K  S\n",
      "  T  T  L  G  Q  A  P  Q  Q  H  D  V  R  P  G  L  P  E  K  L\n",
      "\n",
      "181/61\n",
      "  S  F  G  D  L  S  T  P  D  A  V  M  G  N  P  K  V  K  A  H\n",
      " V  L  W  G  S  V  H  S  *  C  C  Y  G  Q  P  *  G  E  G  S\n",
      "S  P  L  G  I  C  P  L  L  M  L  L  W  A  T  L  R  *  R  L\n",
      "agtcctttggggatctgtccactcctgatgctgttatgggcaaccctaaggtgaaggctc   53 %\n",
      "tcaggaaacccctagacaggtgaggactacgacaatacccgttgggattccacttccgag\n",
      "T  R  Q  P  D  T  W  E  Q  H  Q  *  P  C  G  *  P  S  P  E \n",
      " D  K  P  S  R  D  V  G  S  A  T  I  P  L  G  L  T  F  A  *\n",
      "  G  K  P  I  Q  G  S  R  I  S  N  H  A  V  R  L  H  L  S  M\n",
      "\n",
      "241/81\n",
      "  G  K  K  V  L  G  A  F  S  D  G  L  A  H  L  D  N  L  K  G\n",
      " W  Q  E  S  A  R  C  L  *  *  W  P  G  S  P  G  Q  P  Q  G\n",
      "M  A  R  K  C  S  V  P  L  V  M  A  W  L  T  W  T  T  S  R\n",
      "atggcaagaaagtgctcggtgcctttagtgatggcctggctcacctggacaacctcaagg   55 %\n",
      "taccgttctttcacgagccacggaaatcactaccggaccgagtggacctgttggagttcc\n",
      "H  C  S  L  A  R  H  R  *  H  H  G  P  E  G  P  C  G  *  P \n",
      " P  L  F  T  S  P  A  K  L  S  P  R  A  *  R  S  L  R  L  P\n",
      "  A  L  F  H  E  T  G  K  T  I  A  Q  S  V  Q  V  V  E  L  A\n",
      "\n",
      "301/101\n",
      "  T  F  A  T  L  S  E  L  H  C  D  K  L  H  V  D  P  E  N  F\n",
      " H  L  C  H  T  E  *  A  A  L  *  Q  A  A  R  G  S  *  E  L\n",
      "A  P  L  P  H  *  V  S  C  T  V  T  S  C  T  W  I  L  R  T\n",
      "gcacctttgccacactgagtgagctgcactgtgacaagctgcacgtggatcctgagaact   55 %\n",
      "cgtggaaacggtgtgactcactcgacgtgacactgttcgacgtgcacctaggactcttga\n",
      "C  R  Q  W  V  S  H  A  A  S  H  C  A  A  R  P  D  Q  S  S \n",
      " V  K  A  V  S  L  S  S  C  Q  S  L  S  C  T  S  G  S  F  K\n",
      "  G  K  G  C  Q  T  L  Q  V  T  V  L  Q  V  H  I  R  L  V  E\n",
      "\n",
      "361/121\n",
      "  R  L  L  G  N  V  L  V  C  V  L  A  H  H  F  G  K  E  F  T\n",
      " Q  A  P  G  Q  R  A  G  L  C  A  G  P  S  L  W  Q  R  I  H\n",
      "S  G  S  W  A  T  C  W  S  V  C  W  P  I  T  L  A  K  N  S\n",
      "tcaggctcctgggcaacgtgctggtctgtgtgctggcccatcactttggcaaagaattca   55 %\n",
      "agtccgaggacccgttgcacgaccagacacacgaccgggtagtgaaaccgtttcttaagt\n",
      "*  A  G  P  C  R  A  P  R  H  A  P  G  D  S  Q  C  L  I  * \n",
      " L  S  R  P  L  T  S  T  Q  T  S  A  W  *  K  P  L  S  N  V\n",
      "  P  E  Q  A  V  H  Q  D  T  H  Q  G  M  V  K  A  F  F  E  G\n",
      "\n",
      "421/141\n",
      "  P  P  V  Q  A  A  Y  Q  K  V  V  A  G  V  A  N  A  L  A  H\n",
      " P  T  S  A  G  C  L  S  E  S  G  G  W  C  G  *  C  P  G  P\n",
      "P  H  Q  C  R  L  P  I  R  K  W  W  L  V  W  L  M  P  W  P\n",
      "ccccaccagtgcaggctgcctatcagaaagtggtggctggtgtggctaatgccctggccc   63 %\n",
      "ggggtggtcacgtccgacggatagtctttcaccaccgaccacaccgattacgggaccggg\n",
      "G  V  L  A  P  Q  R  D  S  L  P  P  Q  H  P  *  H  G  P  G \n",
      " G  G  T  C  A  A  *  *  F  T  T  A  P  T  A  L  A  R  A  W\n",
      "  W  W  H  L  S  G  I  L  F  H  H  S  T  H  S  I  G  Q  G  V\n",
      "\n",
      "481/161\n",
      "  K  Y  H  *  A  R  F  L  A  V  Q  F  L  L  K  V  P  L  F  P\n",
      " Q  V  S  L  S  S  L  S  C  C  P  I  S  I  K  G  S  F  V  P\n",
      "T  S  I  T  K  L  A  F  L  L  S  N  F  Y  *  R  F  L  C  S\n",
      "acaagtatcactaagctcgctttcttgctgtccaatttctattaaaggttcctttgttcc   38 %\n",
      "tgttcatagtgattcgagcgaaagaacgacaggttaaagataatttccaaggaaacaagg\n",
      "C  T  D  S  L  E  S  E  Q  Q  G  I  E  I  L  P  E  K  T  G \n",
      " L  Y  *  *  A  R  K  R  A  T  W  N  R  N  F  T  G  K  N  G\n",
      "  L  I  V  L  S  A  K  K  S  D  L  K  *  *  L  N  R  Q  E  R\n",
      "\n",
      "541/181\n",
      "  K  S  N  Y  *  T  G  G  Y  Y  E  G  P  *  A  S  G  F  C  L\n",
      " *  V  Q  L  L  N  W  G  I  L  *  R  A  L  S  I  W  I  L  P\n",
      "L  S  P  T  T  K  L  G  D  I  M  K  G  L  E  H  L  D  S  A\n",
      "ctaagtccaactactaaactgggggatattatgaagggccttgagcatctggattctgcc   46 %\n",
      "gattcaggttgatgatttgaccccctataatacttcccggaactcgtagacctaagacgg\n",
      "*  T  W  S  S  F  Q  P  I  N  H  L  A  K  L  M  Q  I  R  G \n",
      " L  D  L  *  *  V  P  P  Y  *  S  P  G  Q  A  D  P  N  Q  R\n",
      "  L  G  V  V  L  S  P  S  I  I  F  P  R  S  C  R  S  E  A  *\n",
      "\n",
      "601/201\n",
      "  I  K  N  I  Y  F  H  C\n",
      " N  K  K  H  L  F  S  L  Q\n",
      "*  *  K  T  F  I  F  I  A\n",
      "taataaaaaacatttattttcattgcaa   14 %\n",
      "attattttttgtaaataaaagtaacgtt\n",
      "L  L  F  C  K  N  E  N  C \n",
      " I  F  F  M  *  K  *  Q  L\n",
      "  Y  F  V  N  I  K  M  A\n",
      "\n",
      "\n"
     ]
    }
   ],
   "source": [
    "# 6 frame translation\n",
    "print(six_frame_translations(dna))"
   ]
  },
  {
   "cell_type": "markdown",
   "metadata": {},
   "source": [
    "### Amino-acid representations"
   ]
  },
  {
   "cell_type": "code",
   "execution_count": 8,
   "metadata": {},
   "outputs": [
    {
     "name": "stdout",
     "output_type": "stream",
     "text": [
      "MetValHisLeuThrProGluGluLysSerAlaValThrAlaLeuTrpGlyLysValAsnValAspGluValGlyGlyGluAlaLeuGlyArgLeuLeuValValTyrProTrpThrGlnArgPhePheGluSerPheGlyAspLeuSerThrProAspAlaValMetGlyAsnProLysValLysAlaHisGlyLysLysValLeuGlyAlaPheSerAspGlyLeuAlaHisLeuAspAsnLeuLysGlyThrPheAlaThrLeuSerGluLeuHisCysAspLysLeuHisValAspProGluAsnPheArgLeuLeuGlyAsnValLeuValCysValLeuAlaHisHisPheGlyLysGluPheThrProProValGlnAlaAlaTyrGlnLysValValAlaGlyValAlaAsnAlaLeuAlaHisLysTyrHis\n"
     ]
    }
   ],
   "source": [
    "# 3 letter amino acid sequence\n",
    "print(seq3(pro))"
   ]
  },
  {
   "cell_type": "code",
   "execution_count": 9,
   "metadata": {},
   "outputs": [
    {
     "name": "stdout",
     "output_type": "stream",
     "text": [
      "MVHLTPEEKSAVTALWGKVNVDEVGGEALGRLLVVYPWTQRFFESFGDLSTPDAVMGNPKVKAHGKKVLGAFSDGLAHLDNLKGTFATLSELHCDKLHVDPENFRLLGNVLVCVLAHHFGKEFTPPVQAAYQKVVAGVANALAHKYH\n"
     ]
    }
   ],
   "source": [
    "# back to 1 letter amino acid abreviation\n",
    "# 3 letter amino acid sequence\n",
    "print(seq1(seq3(pro)))"
   ]
  },
  {
   "cell_type": "markdown",
   "metadata": {},
   "source": [
    "## Working with restriction sites\n",
    "\n",
    "See more details [there](http://biopython.org/DIST/docs/cookbook/Restriction.html)."
   ]
  },
  {
   "cell_type": "code",
   "execution_count": 12,
   "metadata": {},
   "outputs": [
    {
     "data": {
      "text/plain": [
       "'GAATTC'"
      ]
     },
     "execution_count": 12,
     "metadata": {},
     "output_type": "execute_result"
    }
   ],
   "source": [
    "from Bio import Restriction\n",
    "\n",
    "Restriction.EcoRI.site"
   ]
  },
  {
   "cell_type": "code",
   "execution_count": 13,
   "metadata": {},
   "outputs": [
    {
     "data": {
      "text/plain": [
       "[415]"
      ]
     },
     "execution_count": 13,
     "metadata": {},
     "output_type": "execute_result"
    }
   ],
   "source": [
    "record = SeqIO.parse(\n",
    "    handle = './resources/HBB.fasta',\n",
    "    format='fasta',\n",
    ")\n",
    "\n",
    "for element in record:\n",
    "    if 'Homo' in element.description:\n",
    "        dna = element\n",
    "        break\n",
    "\n",
    "Restriction.EcoRI.search(dna.seq)"
   ]
  },
  {
   "cell_type": "code",
   "execution_count": 14,
   "metadata": {},
   "outputs": [
    {
     "data": {
      "text/plain": [
       "(Seq('ACATTTGCTTCTGACACAACTGTGTTCACTAGCAACCTCAAACAGACACCATGG...AAG'),\n",
       " Seq('AATTCACCCCACCAGTGCAGGCTGCCTATCAGAAAGTGGTGGCTGGTGTGGCTA...CAA'))"
      ]
     },
     "execution_count": 14,
     "metadata": {},
     "output_type": "execute_result"
    }
   ],
   "source": [
    "Restriction.EcoRI.catalyse(dna.seq)"
   ]
  },
  {
   "cell_type": "code",
   "execution_count": 15,
   "metadata": {},
   "outputs": [
    {
     "data": {
      "text/plain": [
       "[414, 214]"
      ]
     },
     "execution_count": 15,
     "metadata": {},
     "output_type": "execute_result"
    }
   ],
   "source": [
    "[len(seq) for seq in Restriction.EcoRI.catalyse(dna.seq)]"
   ]
  },
  {
   "cell_type": "markdown",
   "metadata": {},
   "source": [
    "## Exercice\n",
    "\n",
    "Use `nt_search` to get the locations of a sequence within another sequence.\n",
    "\n",
    ">Can you add codes to solving assignment #10 for which you get the EcoRI locations in each sequence?\n",
    "\n",
    ">Can you calculate the GC content for all the sequences in HBB.fasta?"
   ]
  },
  {
   "cell_type": "code",
   "execution_count": 10,
   "metadata": {},
   "outputs": [
    {
     "name": "stdout",
     "output_type": "stream",
     "text": [
      "%GC = 54.95 for sequence NM_001168847.1; EcoRI located at 363\n",
      "%GC = 50.32 for sequence NM_033234.1; EcoRI located at 410\n",
      "%GC = 51.27 for sequence NM_000518.5; EcoRI located at 413\n",
      "%GC = 47.23 for sequence NM_001304110.1; EcoRI located at \n",
      "%GC = 50.81 for sequence NM_001303935.1; EcoRI located at \n",
      "%GC = 41.27 for sequence NM_001303868.1; EcoRI located at \n",
      "%GC = 49.84 for sequence NM_001303858.1; EcoRI located at \n",
      "%GC = 52.33 for sequence NM_001246752.1; EcoRI located at \n",
      "%GC = 46.72 for sequence NM_001086273.2; EcoRI located at \n",
      "%GC = 56.25 for sequence NM_001144841.1; EcoRI located at \n",
      "%GC = 55.94 for sequence NM_001097648.1; EcoRI located at 357\n",
      "%GC = 48.66 for sequence NM_173917.2; EcoRI located at 409\n",
      "%GC = 48.74 for sequence NM_131020.3; EcoRI located at \n",
      "%GC = 50.49 for sequence NM_001314043.1; EcoRI located at 628\n",
      "%GC = 50.49 for sequence NM_001082260.3; EcoRI located at 628\n",
      "%GC = 52.65 for sequence NM_001283367.1; EcoRI located at 413\n",
      "%GC = 55.41 for sequence NM_001164018.1; EcoRI located at \n",
      "%GC = 48.73 for sequence NM_001123666.1; EcoRI located at \n",
      "%GC = 51.95 for sequence NM_001329918.1; EcoRI located at 403\n",
      "%GC = 51.47 for sequence NM_001304883.1; EcoRI located at \n",
      "%GC = 54.31 for sequence NM_001279263.1; EcoRI located at 434\n",
      "%GC = 48.27 for sequence NM_001201019.1; EcoRI located at \n",
      "%GC = 54.99 for sequence NM_001164428.1; EcoRI located at 372\n",
      "%GC = 51.86 for sequence NM_001304885.1; EcoRI located at \n"
     ]
    }
   ],
   "source": [
    "record = SeqIO.parse(\n",
    "    handle = './resources/HBB.fasta',\n",
    "    format='fasta',\n",
    ")\n",
    "\n",
    "EcoRI = \"GAATTC\" # no need to put uppercases, nt_search does it automatically\n",
    "\n",
    "for element in record:\n",
    "    print(\n",
    "        f\"%GC = {GC(element.seq):.2f} for sequence {element.name}; EcoRI located at {'+'.join(str(x) for x in nt_search(str(element.seq), EcoRI)[1:])}\")\n"
   ]
  },
  {
   "cell_type": "markdown",
   "metadata": {},
   "source": [
    "### Correction"
   ]
  },
  {
   "cell_type": "code",
   "execution_count": 11,
   "metadata": {},
   "outputs": [
    {
     "name": "stdout",
     "output_type": "stream",
     "text": [
      "NM_001168847.1\t\t2\t\t['GAATTC', 363]\t\t[364, 80]\n",
      "NM_033234.1\t\t2\t\t['GAATTC', 410]\t\t[411, 209]\n",
      "NM_000518.5\t\t2\t\t['GAATTC', 413]\t\t[414, 214]\n",
      "NM_001304110.1\t\t1\t\t['GAATTC']\t\t[595]\n",
      "NM_001303935.1\t\t1\t\t['GAATTC']\t\t[618]\n",
      "NM_001303868.1\t\t1\t\t['GAATTC']\t\t[1289]\n",
      "NM_001303858.1\t\t1\t\t['GAATTC']\t\t[620]\n",
      "NM_001246752.1\t\t1\t\t['GAATTC']\t\t[600]\n",
      "NM_001086273.2\t\t1\t\t['GAATTC']\t\t[640]\n",
      "NM_001144841.1\t\t1\t\t['GAATTC']\t\t[496]\n",
      "NM_001097648.1\t\t2\t\t['GAATTC', 357]\t\t[358, 80]\n",
      "NM_173917.2\t\t2\t\t['GAATTC', 409]\t\t[410, 223]\n",
      "NM_131020.3\t\t1\t\t['GAATTC']\t\t[716]\n",
      "NM_001314043.1\t\t2\t\t['GAATTC', 628]\t\t[629, 193]\n",
      "NM_001082260.3\t\t2\t\t['GAATTC', 628]\t\t[629, 193]\n",
      "NM_001283367.1\t\t2\t\t['GAATTC', 413]\t\t[414, 190]\n",
      "NM_001164018.1\t\t1\t\t['GAATTC']\t\t[444]\n",
      "NM_001123666.1\t\t1\t\t['GAATTC']\t\t[747]\n",
      "NM_001329918.1\t\t2\t\t['GAATTC', 403]\t\t[404, 212]\n",
      "NM_001304883.1\t\t1\t\t['GAATTC']\t\t[645]\n",
      "NM_001279263.1\t\t2\t\t['GAATTC', 434]\t\t[435, 191]\n",
      "NM_001201019.1\t\t1\t\t['GAATTC']\t\t[607]\n",
      "NM_001164428.1\t\t2\t\t['GAATTC', 372]\t\t[373, 98]\n",
      "NM_001304885.1\t\t1\t\t['GAATTC']\t\t[644]\n"
     ]
    }
   ],
   "source": [
    "r = SeqIO.parse(\"./resources/HBB.fasta\", 'fasta')\n",
    "EcoRI = \"gaattc\".upper()\n",
    "addCutter = \"g|aattc\".upper()\n",
    "for i in r:\n",
    "    pos = nt_search(str(i.seq), EcoRI)\n",
    "    rep = str(i.seq).replace(EcoRI, addCutter)\n",
    "    sp = rep.split(\"|\")\n",
    "    num = len(sp)\n",
    "    frag = []\n",
    "    for j in sp:\n",
    "        frag.append(len(j))\n",
    "    print(i.name, num, pos, frag, sep='\\t\\t')"
   ]
  },
  {
   "cell_type": "code",
   "execution_count": null,
   "metadata": {},
   "outputs": [],
   "source": []
  }
 ],
 "metadata": {
  "interpreter": {
   "hash": "b51595f36012c8da2bf2284ebbd8d377d5c2d31fa7484164f2d2bcda7a09b462"
  },
  "kernelspec": {
   "display_name": "Python 3.9.7 64-bit (system)",
   "name": "python3"
  },
  "language_info": {
   "codemirror_mode": {
    "name": "ipython",
    "version": 3
   },
   "file_extension": ".py",
   "mimetype": "text/x-python",
   "name": "python",
   "nbconvert_exporter": "python",
   "pygments_lexer": "ipython3",
   "version": "3.9.7"
  },
  "orig_nbformat": 4
 },
 "nbformat": 4,
 "nbformat_minor": 2
}
